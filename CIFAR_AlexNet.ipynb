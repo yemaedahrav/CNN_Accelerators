{
  "cells": [
    {
      "cell_type": "markdown",
      "metadata": {
        "id": "view-in-github",
        "colab_type": "text"
      },
      "source": [
        "<a href=\"https://colab.research.google.com/github/yemaedahrav/CNN_Accelerators/blob/main/CIFAR_AlexNet.ipynb\" target=\"_parent\"><img src=\"https://colab.research.google.com/assets/colab-badge.svg\" alt=\"Open In Colab\"/></a>"
      ]
    },
    {
      "cell_type": "code",
      "execution_count": 1,
      "metadata": {
        "colab": {
          "base_uri": "https://localhost:8080/"
        },
        "id": "lWp1UCMKRDgZ",
        "outputId": "262fb3c1-86b2-48a1-81c4-829ea050ffb3"
      },
      "outputs": [
        {
          "output_type": "stream",
          "name": "stdout",
          "text": [
            "Collecting torchinfo\n",
            "  Downloading torchinfo-1.6.5-py3-none-any.whl (21 kB)\n",
            "Installing collected packages: torchinfo\n",
            "Successfully installed torchinfo-1.6.5\n"
          ]
        }
      ],
      "source": [
        "import torch\n",
        "import torch.nn as nn\n",
        "import torch.nn.functional as F\n",
        "import torchvision\n",
        "from torchvision import datasets, models, transforms\n",
        "from torchvision import datasets, transforms\n",
        "import torchvision.transforms as T\n",
        "from torchvision.utils import make_grid\n",
        "from torchvision.utils import save_image\n",
        "from torch.utils.data import DataLoader, Dataset\n",
        "import torch.optim as optim\n",
        "from torch.optim import lr_scheduler\n",
        "\n",
        "import time\n",
        "import os\n",
        "import shutil\n",
        "import copy\n",
        "import sys\n",
        "\n",
        "import PIL\n",
        "from IPython.display import Image\n",
        "import matplotlib.pyplot as plt\n",
        "import pandas as pd\n",
        "from sklearn.cluster import KMeans, MiniBatchKMeans\n",
        "from statistics import mean\n",
        "from collections  import OrderedDict\n",
        "import numpy as np\n",
        "from skimage import io, transform\n",
        "import random\n",
        "import scipy\n",
        "import cv2\n",
        "from math import floor, ceil\n",
        "\n",
        "!pip install torchinfo\n",
        "from torchinfo import summary\n",
        "\n",
        "%matplotlib inline"
      ]
    },
    {
      "cell_type": "code",
      "execution_count": 2,
      "metadata": {
        "id": "5PC5pCRTSBIv"
      },
      "outputs": [],
      "source": [
        "transform = transforms.Compose([transforms.Resize(256),\n",
        "                                transforms.RandomResizedCrop(224),\n",
        "                                transforms.ToTensor(),\n",
        "                                transforms.Normalize(mean=[0.485, 0.456, 0.406], std=[0.229, 0.224, 0.225]),\n",
        "                               ])"
      ]
    },
    {
      "cell_type": "code",
      "execution_count": 3,
      "metadata": {
        "colab": {
          "base_uri": "https://localhost:8080/",
          "height": 101,
          "referenced_widgets": [
            "5e0d009ff40c4f2283b5f7b6f52a67ae",
            "53006c9b5c45460b9c062413e4e9ddc2",
            "16f6c2702be44a36aff533a7165cd3c4",
            "62e624d8a2774218b68ca61a6c37fe0e",
            "d7a9d63b303e47eabd2ec50a7e2c51b5",
            "06a2ece36d5d49e4afeac521d019a2ed",
            "ab11b1c606d541fc8ca1a772fab27a7e",
            "b2e5f05db8b4405291a6346da829e7ae",
            "4731f277cfe94123b0fd9728017cc421",
            "ef922e56aa8b433da029acd9adf1d35a",
            "a5dc854ccd684d92af1a8b7be2baeea6"
          ]
        },
        "id": "u07qNie5RTgv",
        "outputId": "cbaa1285-f750-4055-9f18-64232ed3b99e"
      },
      "outputs": [
        {
          "output_type": "stream",
          "name": "stdout",
          "text": [
            "Downloading https://www.cs.toronto.edu/~kriz/cifar-10-python.tar.gz to ./data/cifar-10-python.tar.gz\n"
          ]
        },
        {
          "output_type": "display_data",
          "data": {
            "text/plain": [
              "  0%|          | 0/170498071 [00:00<?, ?it/s]"
            ],
            "application/vnd.jupyter.widget-view+json": {
              "version_major": 2,
              "version_minor": 0,
              "model_id": "5e0d009ff40c4f2283b5f7b6f52a67ae"
            }
          },
          "metadata": {}
        },
        {
          "output_type": "stream",
          "name": "stdout",
          "text": [
            "Extracting ./data/cifar-10-python.tar.gz to ./data\n",
            "Files already downloaded and verified\n"
          ]
        }
      ],
      "source": [
        "train_data = torchvision.datasets.CIFAR10(root='./data', train=True, download=True, transform=transform)\n",
        "trainloader = torch.utils.data.DataLoader(train_data, batch_size=4, shuffle=True, num_workers=2)\n",
        "\n",
        "test_data = torchvision.datasets.CIFAR10(root='./data', train=False, download=True, transform=transform)\n",
        "testloader = torch.utils.data.DataLoader(test_data, batch_size=4, shuffle=False, num_workers=2)\n",
        "\n",
        "classes = ('Airplane', 'Car', 'Bird', 'Cat', 'Deer', 'Dog', 'Frog', 'Horse', 'Ship', 'Truck')"
      ]
    },
    {
      "cell_type": "code",
      "execution_count": 4,
      "metadata": {
        "colab": {
          "base_uri": "https://localhost:8080/",
          "height": 170
        },
        "id": "k3TJAqg1SQO-",
        "outputId": "3b870654-e813-4b5f-8353-fe08234e7864"
      },
      "outputs": [
        {
          "output_type": "stream",
          "name": "stderr",
          "text": [
            "Clipping input data to the valid range for imshow with RGB data ([0..1] for floats or [0..255] for integers).\n"
          ]
        },
        {
          "output_type": "display_data",
          "data": {
            "text/plain": [
              "<Figure size 432x288 with 1 Axes>"
            ],
            "image/png": "[encoded data removed]"
          },
          "metadata": {
            "needs_background": "light"
          }
        },
        {
          "output_type": "stream",
          "name": "stdout",
          "text": [
            "Horse   Dog   Dog   Car\n"
          ]
        }
      ],
      "source": [
        "import matplotlib.pyplot as plt\n",
        "import numpy as np\n",
        "\n",
        "def imshow(img):\n",
        "    img = img / 2 + 0.5 \n",
        "    npimg = img.numpy()\n",
        "    plt.imshow(np.transpose(npimg, (1, 2, 0)))\n",
        "    plt.show()\n",
        "\n",
        "dataiter = iter(trainloader)\n",
        "images, labels = dataiter.next()\n",
        "\n",
        "imshow(torchvision.utils.make_grid(images))\n",
        "print(' '.join('%5s' % classes[labels[j]] for j in range(4)))"
      ]
    },
    {
      "cell_type": "code",
      "execution_count": 5,
      "metadata": {
        "colab": {
          "base_uri": "https://localhost:8080/",
          "height": 552,
          "referenced_widgets": [
            "b9a542b884ca451eb9de64f7d310d54b",
            "5436278fce1546a59c7b8c54c74a6075",
            "91db1dc004f64f878d8e8bc8fce49ad9",
            "3e11071176674088b4e25eb9fbee4753",
            "a018094e5ca245ce9b1ae42f8978f622",
            "80e62996e6c04cb991d1d55eae28b2b9",
            "d0fc7efe6469446b8b9c036383713a54",
            "26e0a8a0532d48019121e41242328d5f",
            "b3ec39b65c264f6faa722453ce7615c2",
            "fa025773920e4d5394224b81ebaeaac9",
            "fac9abd066364d9ea6f01f86567140bc"
          ]
        },
        "id": "_U7qLjdZc9ip",
        "outputId": "ac09b341-aad1-4843-c448-30e200970fb5"
      },
      "outputs": [
        {
          "output_type": "stream",
          "name": "stderr",
          "text": [
            "Downloading: \"https://github.com/pytorch/vision/archive/v0.6.0.zip\" to /root/.cache/torch/hub/v0.6.0.zip\n",
            "Downloading: \"https://download.pytorch.org/models/alexnet-owt-7be5be79.pth\" to /root/.cache/torch/hub/checkpoints/alexnet-owt-7be5be79.pth\n"
          ]
        },
        {
          "output_type": "display_data",
          "data": {
            "text/plain": [
              "  0%|          | 0.00/233M [00:00<?, ?B/s]"
            ],
            "application/vnd.jupyter.widget-view+json": {
              "version_major": 2,
              "version_minor": 0,
              "model_id": "b9a542b884ca451eb9de64f7d310d54b"
            }
          },
          "metadata": {}
        },
        {
          "output_type": "execute_result",
          "data": {
            "text/plain": [
              "AlexNet(\n",
              "  (features): Sequential(\n",
              "    (0): Conv2d(3, 64, kernel_size=(11, 11), stride=(4, 4), padding=(2, 2))\n",
              "    (1): ReLU(inplace=True)\n",
              "    (2): MaxPool2d(kernel_size=3, stride=2, padding=0, dilation=1, ceil_mode=False)\n",
              "    (3): Conv2d(64, 192, kernel_size=(5, 5), stride=(1, 1), padding=(2, 2))\n",
              "    (4): ReLU(inplace=True)\n",
              "    (5): MaxPool2d(kernel_size=3, stride=2, padding=0, dilation=1, ceil_mode=False)\n",
              "    (6): Conv2d(192, 384, kernel_size=(3, 3), stride=(1, 1), padding=(1, 1))\n",
              "    (7): ReLU(inplace=True)\n",
              "    (8): Conv2d(384, 256, kernel_size=(3, 3), stride=(1, 1), padding=(1, 1))\n",
              "    (9): ReLU(inplace=True)\n",
              "    (10): Conv2d(256, 256, kernel_size=(3, 3), stride=(1, 1), padding=(1, 1))\n",
              "    (11): ReLU(inplace=True)\n",
              "    (12): MaxPool2d(kernel_size=3, stride=2, padding=0, dilation=1, ceil_mode=False)\n",
              "  )\n",
              "  (avgpool): AdaptiveAvgPool2d(output_size=(6, 6))\n",
              "  (classifier): Sequential(\n",
              "    (0): Dropout(p=0.5, inplace=False)\n",
              "    (1): Linear(in_features=9216, out_features=4096, bias=True)\n",
              "    (2): ReLU(inplace=True)\n",
              "    (3): Dropout(p=0.5, inplace=False)\n",
              "    (4): Linear(in_features=4096, out_features=4096, bias=True)\n",
              "    (5): ReLU(inplace=True)\n",
              "    (6): Linear(in_features=4096, out_features=1000, bias=True)\n",
              "  )\n",
              ")"
            ]
          },
          "metadata": {},
          "execution_count": 5
        }
      ],
      "source": [
        "AlexNet_Model = torch.hub.load('pytorch/vision:v0.6.0', 'alexnet', pretrained=True)\n",
        "AlexNet_Model.eval()"
      ]
    },
    {
      "cell_type": "code",
      "execution_count": 6,
      "metadata": {
        "id": "hwO80p-tjv7M"
      },
      "outputs": [],
      "source": [
        "import torch.nn as nn\n",
        "AlexNet_Model.classifier[1] = nn.Linear(9216,4096)\n",
        "AlexNet_Model.classifier[4] = nn.Linear(4096,1024)\n",
        "AlexNet_Model.classifier[6] = nn.Linear(1024,10)"
      ]
    },
    {
      "cell_type": "code",
      "execution_count": 7,
      "metadata": {
        "colab": {
          "base_uri": "https://localhost:8080/"
        },
        "id": "J4_DnBMHkC-z",
        "outputId": "89dd3ea7-ae44-47f1-c22c-d0396f5be1aa"
      },
      "outputs": [
        {
          "output_type": "execute_result",
          "data": {
            "text/plain": [
              "AlexNet(\n",
              "  (features): Sequential(\n",
              "    (0): Conv2d(3, 64, kernel_size=(11, 11), stride=(4, 4), padding=(2, 2))\n",
              "    (1): ReLU(inplace=True)\n",
              "    (2): MaxPool2d(kernel_size=3, stride=2, padding=0, dilation=1, ceil_mode=False)\n",
              "    (3): Conv2d(64, 192, kernel_size=(5, 5), stride=(1, 1), padding=(2, 2))\n",
              "    (4): ReLU(inplace=True)\n",
              "    (5): MaxPool2d(kernel_size=3, stride=2, padding=0, dilation=1, ceil_mode=False)\n",
              "    (6): Conv2d(192, 384, kernel_size=(3, 3), stride=(1, 1), padding=(1, 1))\n",
              "    (7): ReLU(inplace=True)\n",
              "    (8): Conv2d(384, 256, kernel_size=(3, 3), stride=(1, 1), padding=(1, 1))\n",
              "    (9): ReLU(inplace=True)\n",
              "    (10): Conv2d(256, 256, kernel_size=(3, 3), stride=(1, 1), padding=(1, 1))\n",
              "    (11): ReLU(inplace=True)\n",
              "    (12): MaxPool2d(kernel_size=3, stride=2, padding=0, dilation=1, ceil_mode=False)\n",
              "  )\n",
              "  (avgpool): AdaptiveAvgPool2d(output_size=(6, 6))\n",
              "  (classifier): Sequential(\n",
              "    (0): Dropout(p=0.5, inplace=False)\n",
              "    (1): Linear(in_features=9216, out_features=4096, bias=True)\n",
              "    (2): ReLU(inplace=True)\n",
              "    (3): Dropout(p=0.5, inplace=False)\n",
              "    (4): Linear(in_features=4096, out_features=1024, bias=True)\n",
              "    (5): ReLU(inplace=True)\n",
              "    (6): Linear(in_features=1024, out_features=10, bias=True)\n",
              "  )\n",
              ")"
            ]
          },
          "metadata": {},
          "execution_count": 7
        }
      ],
      "source": [
        "AlexNet_Model.eval()"
      ]
    },
    {
      "cell_type": "code",
      "execution_count": 8,
      "metadata": {
        "id": "4flyxAl8dyIQ"
      },
      "outputs": [],
      "source": [
        "device = torch.device(\"cuda:0\" if torch.cuda.is_available() else \"cpu\")"
      ]
    },
    {
      "cell_type": "code",
      "execution_count": 9,
      "metadata": {
        "colab": {
          "base_uri": "https://localhost:8080/"
        },
        "id": "KVbzA2yFiW2G",
        "outputId": "1d40af30-bc84-4145-857a-87210e83da6a"
      },
      "outputs": [
        {
          "output_type": "stream",
          "name": "stdout",
          "text": [
            "cuda:0\n"
          ]
        }
      ],
      "source": [
        "print(device)"
      ]
    },
    {
      "cell_type": "code",
      "execution_count": 10,
      "metadata": {
        "colab": {
          "base_uri": "https://localhost:8080/"
        },
        "id": "XgmBpBExrjwA",
        "outputId": "b4b01d16-8968-4b60-df59-c5f1cf84dad0"
      },
      "outputs": [
        {
          "output_type": "execute_result",
          "data": {
            "text/plain": [
              "AlexNet(\n",
              "  (features): Sequential(\n",
              "    (0): Conv2d(3, 64, kernel_size=(11, 11), stride=(4, 4), padding=(2, 2))\n",
              "    (1): ReLU(inplace=True)\n",
              "    (2): MaxPool2d(kernel_size=3, stride=2, padding=0, dilation=1, ceil_mode=False)\n",
              "    (3): Conv2d(64, 192, kernel_size=(5, 5), stride=(1, 1), padding=(2, 2))\n",
              "    (4): ReLU(inplace=True)\n",
              "    (5): MaxPool2d(kernel_size=3, stride=2, padding=0, dilation=1, ceil_mode=False)\n",
              "    (6): Conv2d(192, 384, kernel_size=(3, 3), stride=(1, 1), padding=(1, 1))\n",
              "    (7): ReLU(inplace=True)\n",
              "    (8): Conv2d(384, 256, kernel_size=(3, 3), stride=(1, 1), padding=(1, 1))\n",
              "    (9): ReLU(inplace=True)\n",
              "    (10): Conv2d(256, 256, kernel_size=(3, 3), stride=(1, 1), padding=(1, 1))\n",
              "    (11): ReLU(inplace=True)\n",
              "    (12): MaxPool2d(kernel_size=3, stride=2, padding=0, dilation=1, ceil_mode=False)\n",
              "  )\n",
              "  (avgpool): AdaptiveAvgPool2d(output_size=(6, 6))\n",
              "  (classifier): Sequential(\n",
              "    (0): Dropout(p=0.5, inplace=False)\n",
              "    (1): Linear(in_features=9216, out_features=4096, bias=True)\n",
              "    (2): ReLU(inplace=True)\n",
              "    (3): Dropout(p=0.5, inplace=False)\n",
              "    (4): Linear(in_features=4096, out_features=1024, bias=True)\n",
              "    (5): ReLU(inplace=True)\n",
              "    (6): Linear(in_features=1024, out_features=10, bias=True)\n",
              "  )\n",
              ")"
            ]
          },
          "metadata": {},
          "execution_count": 10
        }
      ],
      "source": [
        "AlexNet_Model.to(device)"
      ]
    },
    {
      "cell_type": "code",
      "execution_count": 11,
      "metadata": {
        "id": "bM-BE171qrnn"
      },
      "outputs": [],
      "source": [
        "criterion = nn.CrossEntropyLoss()\n",
        "optimizer = optim.SGD(AlexNet_Model.parameters(), lr=0.001, momentum=0.9)"
      ]
    },
    {
      "cell_type": "code",
      "execution_count": 12,
      "metadata": {
        "id": "vD_NM-4AdDiA",
        "colab": {
          "base_uri": "https://localhost:8080/"
        },
        "outputId": "c0713938-a79a-4cd2-f885-475ce93bfc94"
      },
      "outputs": [
        {
          "output_type": "stream",
          "name": "stdout",
          "text": [
            "[1,  1000] loss: 1.743\n",
            "Time: 40.35310125350952\n",
            "[1,  2000] loss: 1.472\n",
            "Time: 80.94374966621399\n",
            "[1,  3000] loss: 1.419\n",
            "Time: 121.25106048583984\n",
            "[1,  4000] loss: 1.390\n",
            "Time: 161.33999013900757\n",
            "[1,  5000] loss: 1.276\n",
            "Time: 202.29386067390442\n",
            "[1,  6000] loss: 1.273\n",
            "Time: 242.31044030189514\n",
            "[1,  7000] loss: 1.242\n",
            "Time: 282.45770740509033\n",
            "[1,  8000] loss: 1.216\n",
            "Time: 322.52531719207764\n",
            "[1,  9000] loss: 1.189\n",
            "Time: 362.571640253067\n",
            "[1, 10000] loss: 1.163\n",
            "Time: 402.8427457809448\n",
            "[1, 11000] loss: 1.135\n",
            "Time: 442.79452562332153\n",
            "[1, 12000] loss: 1.145\n",
            "Time: 482.7979693412781\n",
            "[2,  1000] loss: 1.080\n",
            "Time: 40.00364279747009\n",
            "[2,  2000] loss: 1.081\n",
            "Time: 79.94104671478271\n",
            "[2,  3000] loss: 1.062\n",
            "Time: 119.976233959198\n",
            "[2,  4000] loss: 1.099\n",
            "Time: 159.82025861740112\n",
            "[2,  5000] loss: 1.015\n",
            "Time: 199.71404695510864\n",
            "[2,  6000] loss: 1.019\n",
            "Time: 239.99285173416138\n",
            "[2,  7000] loss: 1.040\n",
            "Time: 279.96367597579956\n",
            "[2,  8000] loss: 1.064\n",
            "Time: 319.99060893058777\n",
            "[2,  9000] loss: 1.035\n",
            "Time: 360.0123312473297\n",
            "[2, 10000] loss: 1.012\n",
            "Time: 400.0879156589508\n",
            "[2, 11000] loss: 1.054\n",
            "Time: 440.13347721099854\n",
            "[2, 12000] loss: 0.993\n",
            "Time: 480.1745855808258\n",
            "[3,  1000] loss: 0.952\n",
            "Time: 40.22143030166626\n",
            "[3,  2000] loss: 0.985\n",
            "Time: 80.15327477455139\n",
            "[3,  3000] loss: 0.945\n",
            "Time: 120.12094974517822\n",
            "[3,  4000] loss: 0.944\n",
            "Time: 160.09179496765137\n",
            "[3,  5000] loss: 0.966\n",
            "Time: 200.03391575813293\n",
            "[3,  6000] loss: 0.945\n",
            "Time: 239.9929654598236\n",
            "[3,  7000] loss: 0.978\n",
            "Time: 279.99571776390076\n",
            "[3,  8000] loss: 0.945\n",
            "Time: 320.09576749801636\n",
            "[3,  9000] loss: 0.947\n",
            "Time: 360.288596868515\n",
            "[3, 10000] loss: 0.901\n",
            "Time: 400.2711646556854\n",
            "[3, 11000] loss: 0.922\n",
            "Time: 440.2738881111145\n",
            "[3, 12000] loss: 0.913\n",
            "Time: 480.3094735145569\n",
            "[4,  1000] loss: 0.897\n",
            "Time: 40.047327518463135\n",
            "[4,  2000] loss: 0.896\n",
            "Time: 79.95905113220215\n",
            "[4,  3000] loss: 0.927\n",
            "Time: 120.51702976226807\n",
            "[4,  4000] loss: 0.904\n",
            "Time: 161.92289090156555\n",
            "[4,  5000] loss: 0.874\n",
            "Time: 201.88581252098083\n",
            "[4,  6000] loss: 0.886\n",
            "Time: 242.33641123771667\n",
            "[4,  7000] loss: 0.838\n",
            "Time: 282.401526927948\n",
            "[4,  8000] loss: 0.883\n",
            "Time: 322.4232907295227\n",
            "[4,  9000] loss: 0.887\n",
            "Time: 362.4586887359619\n",
            "[4, 10000] loss: 0.856\n",
            "Time: 402.4699053764343\n",
            "[4, 11000] loss: 0.875\n",
            "Time: 442.4474492073059\n",
            "[4, 12000] loss: 0.861\n",
            "Time: 482.65848112106323\n",
            "[5,  1000] loss: 0.826\n",
            "Time: 39.97921299934387\n",
            "[5,  2000] loss: 0.851\n",
            "Time: 79.86858677864075\n",
            "[5,  3000] loss: 0.823\n",
            "Time: 119.74826002120972\n",
            "[5,  4000] loss: 0.822\n",
            "Time: 159.611807346344\n",
            "[5,  5000] loss: 0.835\n",
            "Time: 199.4424855709076\n",
            "[5,  6000] loss: 0.852\n",
            "Time: 239.31558203697205\n",
            "[5,  7000] loss: 0.843\n",
            "Time: 279.3523459434509\n",
            "[5,  8000] loss: 0.848\n",
            "Time: 319.2303204536438\n",
            "[5,  9000] loss: 0.829\n",
            "Time: 359.0317099094391\n",
            "[5, 10000] loss: 0.848\n",
            "Time: 398.87486815452576\n",
            "[5, 11000] loss: 0.824\n",
            "Time: 438.78522634506226\n",
            "[5, 12000] loss: 0.828\n",
            "Time: 479.01767778396606\n",
            "[6,  1000] loss: 0.806\n",
            "Time: 39.881932735443115\n",
            "[6,  2000] loss: 0.778\n",
            "Time: 79.93808627128601\n",
            "[6,  3000] loss: 0.814\n",
            "Time: 119.77728152275085\n",
            "[6,  4000] loss: 0.787\n",
            "Time: 159.79592514038086\n",
            "[6,  5000] loss: 0.831\n",
            "Time: 199.5363049507141\n",
            "[6,  6000] loss: 0.782\n",
            "Time: 239.2892541885376\n",
            "[6,  7000] loss: 0.829\n",
            "Time: 279.0091984272003\n",
            "[6,  8000] loss: 0.836\n",
            "Time: 318.90543603897095\n",
            "[6,  9000] loss: 0.809\n",
            "Time: 358.5779983997345\n",
            "[6, 10000] loss: 0.835\n",
            "Time: 398.5617001056671\n",
            "[6, 11000] loss: 0.802\n",
            "Time: 438.24889755249023\n",
            "[6, 12000] loss: 0.815\n",
            "Time: 477.83639097213745\n",
            "[7,  1000] loss: 0.787\n",
            "Time: 39.61160659790039\n",
            "[7,  2000] loss: 0.776\n",
            "Time: 79.1246190071106\n",
            "[7,  3000] loss: 0.741\n",
            "Time: 118.67192506790161\n",
            "[7,  4000] loss: 0.744\n",
            "Time: 158.49841856956482\n",
            "[7,  5000] loss: 0.760\n",
            "Time: 198.4544336795807\n",
            "[7,  6000] loss: 0.773\n",
            "Time: 238.24601650238037\n",
            "[7,  7000] loss: 0.770\n",
            "Time: 278.0143311023712\n",
            "[7,  8000] loss: 0.782\n",
            "Time: 317.82997274398804\n",
            "[7,  9000] loss: 0.759\n",
            "Time: 357.64653396606445\n",
            "[7, 10000] loss: 0.768\n",
            "Time: 397.508013010025\n",
            "[7, 11000] loss: 0.769\n",
            "Time: 437.40048003196716\n",
            "[7, 12000] loss: 0.779\n",
            "Time: 477.1282284259796\n",
            "[8,  1000] loss: 0.736\n",
            "Time: 39.8024480342865\n",
            "[8,  2000] loss: 0.727\n",
            "Time: 79.53147053718567\n",
            "[8,  3000] loss: 0.749\n",
            "Time: 119.31885290145874\n",
            "[8,  4000] loss: 0.722\n",
            "Time: 159.06170463562012\n",
            "[8,  5000] loss: 0.743\n",
            "Time: 198.79541969299316\n",
            "[8,  6000] loss: 0.733\n",
            "Time: 238.57615280151367\n",
            "[8,  7000] loss: 0.743\n",
            "Time: 278.27152132987976\n",
            "[8,  8000] loss: 0.774\n",
            "Time: 318.5385024547577\n",
            "[8,  9000] loss: 0.771\n",
            "Time: 358.45236134529114\n",
            "[8, 10000] loss: 0.736\n",
            "Time: 398.35669112205505\n",
            "[8, 11000] loss: 0.778\n",
            "Time: 438.0868399143219\n",
            "[8, 12000] loss: 0.742\n",
            "Time: 477.93592715263367\n",
            "[9,  1000] loss: 0.722\n",
            "Time: 39.79828953742981\n",
            "[9,  2000] loss: 0.724\n",
            "Time: 79.53708982467651\n",
            "[9,  3000] loss: 0.698\n",
            "Time: 119.38703656196594\n",
            "[9,  4000] loss: 0.734\n",
            "Time: 159.5551598072052\n",
            "[9,  5000] loss: 0.753\n",
            "Time: 199.36460137367249\n",
            "[9,  6000] loss: 0.730\n",
            "Time: 239.2496213912964\n",
            "[9,  7000] loss: 0.731\n",
            "Time: 279.09194827079773\n",
            "[9,  8000] loss: 0.728\n",
            "Time: 319.03896975517273\n",
            "[9,  9000] loss: 0.780\n",
            "Time: 358.98737716674805\n",
            "[9, 10000] loss: 0.733\n",
            "Time: 398.9458079338074\n",
            "[9, 11000] loss: 0.745\n",
            "Time: 439.0409302711487\n",
            "[9, 12000] loss: 0.688\n",
            "Time: 478.9401214122772\n",
            "[10,  1000] loss: 0.660\n",
            "Time: 40.022165298461914\n",
            "[10,  2000] loss: 0.683\n",
            "Time: 79.8630542755127\n",
            "[10,  3000] loss: 0.707\n",
            "Time: 119.71516275405884\n",
            "[10,  4000] loss: 0.733\n",
            "Time: 159.57098054885864\n",
            "[10,  5000] loss: 0.694\n",
            "Time: 199.41406226158142\n",
            "[10,  6000] loss: 0.722\n",
            "Time: 239.28408432006836\n",
            "[10,  7000] loss: 0.689\n",
            "Time: 279.262069940567\n",
            "[10,  8000] loss: 0.722\n",
            "Time: 319.16727232933044\n",
            "[10,  9000] loss: 0.701\n",
            "Time: 358.9536716938019\n",
            "[10, 10000] loss: 0.712\n",
            "Time: 398.7422208786011\n",
            "[10, 11000] loss: 0.688\n",
            "Time: 438.58558559417725\n",
            "[10, 12000] loss: 0.732\n",
            "Time: 478.4481871128082\n",
            "Finished Training of AlexNet\n"
          ]
        }
      ],
      "source": [
        "for epoch in range(10):\n",
        "    running_loss = 0.0\n",
        "    start_time = time.time()\n",
        "    for i, data in enumerate(trainloader, 0):\n",
        "        inputs, labels = data[0].to(device), data[1].to(device)\n",
        "        optimizer.zero_grad()\n",
        "        output = AlexNet_Model(inputs)\n",
        "        loss = criterion(output, labels)\n",
        "        loss.backward()\n",
        "        optimizer.step()\n",
        "\n",
        "        end_time = time.time()\n",
        "        time_taken = end_time - start_time\n",
        "\n",
        "        running_loss += loss.item()\n",
        "        if i % 1000 == 999:    \n",
        "            print('[%d, %5d] loss: %.3f' % (epoch + 1, i + 1, running_loss / 1000))\n",
        "            print('Time:',time_taken)\n",
        "            running_loss = 0.0\n",
        "\n",
        "print('Finished Training of AlexNet')"
      ]
    },
    {
      "cell_type": "code",
      "execution_count": 13,
      "metadata": {
        "id": "ZiZgc7PJBw1p",
        "colab": {
          "base_uri": "https://localhost:8080/"
        },
        "outputId": "4a4e2a2b-8267-4b5a-c43f-b02206eac5db"
      },
      "outputs": [
        {
          "output_type": "stream",
          "name": "stdout",
          "text": [
            "Accuracy of the network on the 10000 test images: 73.33 %\n"
          ]
        }
      ],
      "source": [
        "correct = 0\n",
        "total = 0\n",
        "with torch.no_grad():\n",
        "    for data in testloader:\n",
        "        images, labels = data[0].to(device), data[1].to(device)\n",
        "        outputs = AlexNet_Model(images)\n",
        "        _, predicted = torch.max(outputs.data, 1)\n",
        "        total += labels.size(0)\n",
        "        correct += (predicted == labels).sum().item()\n",
        "\n",
        "print('Accuracy of the network on the 10000 test images: %.2f %%' % (100 * correct / total))"
      ]
    },
    {
      "cell_type": "code",
      "execution_count": 14,
      "metadata": {
        "id": "y3xhET4wbujY",
        "colab": {
          "base_uri": "https://localhost:8080/",
          "height": 17
        },
        "outputId": "49ed1155-cde2-45f5-ee13-453782be4b83"
      },
      "outputs": [
        {
          "output_type": "display_data",
          "data": {
            "text/plain": [
              "<IPython.core.display.Javascript object>"
            ],
            "application/javascript": [
              "\n",
              "    async function download(id, filename, size) {\n",
              "      if (!google.colab.kernel.accessAllowed) {\n",
              "        return;\n",
              "      }\n",
              "      const div = document.createElement('div');\n",
              "      const label = document.createElement('label');\n",
              "      label.textContent = `Downloading \"${filename}\": `;\n",
              "      div.appendChild(label);\n",
              "      const progress = document.createElement('progress');\n",
              "      progress.max = size;\n",
              "      div.appendChild(progress);\n",
              "      document.body.appendChild(div);\n",
              "\n",
              "      const buffers = [];\n",
              "      let downloaded = 0;\n",
              "\n",
              "      const channel = await google.colab.kernel.comms.open(id);\n",
              "      // Send a message to notify the kernel that we're ready.\n",
              "      channel.send({})\n",
              "\n",
              "      for await (const message of channel.messages) {\n",
              "        // Send a message to notify the kernel that we're ready.\n",
              "        channel.send({})\n",
              "        if (message.buffers) {\n",
              "          for (const buffer of message.buffers) {\n",
              "            buffers.push(buffer);\n",
              "            downloaded += buffer.byteLength;\n",
              "            progress.value = downloaded;\n",
              "          }\n",
              "        }\n",
              "      }\n",
              "      const blob = new Blob(buffers, {type: 'application/binary'});\n",
              "      const a = document.createElement('a');\n",
              "      a.href = window.URL.createObjectURL(blob);\n",
              "      a.download = filename;\n",
              "      div.appendChild(a);\n",
              "      a.click();\n",
              "      div.remove();\n",
              "    }\n",
              "  "
            ]
          },
          "metadata": {}
        },
        {
          "output_type": "display_data",
          "data": {
            "text/plain": [
              "<IPython.core.display.Javascript object>"
            ],
            "application/javascript": [
              "download(\"download_4898107d-aa9c-43ad-a481-062473e73877\", \"AlexNet_CIFAR.pth\", 177717493)"
            ]
          },
          "metadata": {}
        }
      ],
      "source": [
        "from google.colab import files\n",
        "\n",
        "torch.save(AlexNet_Model.state_dict(), 'AlexNet_CIFAR.pth')\n",
        "files.download('AlexNet_CIFAR.pth')"
      ]
    }
  ],
  "metadata": {
    "accelerator": "GPU",
    "colab": {
      "name": "CIFAR_AlexNet.ipynb",
      "provenance": [],
      "collapsed_sections": [],
      "include_colab_link": true
    },
    "kernelspec": {
      "display_name": "Python 3 (ipykernel)",
      "language": "python",
      "name": "python3"
    },
    "language_info": {
      "codemirror_mode": {
        "name": "ipython",
        "version": 3
      },
      "file_extension": ".py",
      "mimetype": "text/x-python",
      "name": "python",
      "nbconvert_exporter": "python",
      "pygments_lexer": "ipython3",
      "version": "3.8.12"
    },
    "widgets": {
      "application/vnd.jupyter.widget-state+json": {
        "5e0d009ff40c4f2283b5f7b6f52a67ae": {
          "model_module": "@jupyter-widgets/controls",
          "model_name": "HBoxModel",
          "model_module_version": "1.5.0",
          "state": {
            "_dom_classes": [],
            "_model_module": "@jupyter-widgets/controls",
            "_model_module_version": "1.5.0",
            "_model_name": "HBoxModel",
            "_view_count": null,
            "_view_module": "@jupyter-widgets/controls",
            "_view_module_version": "1.5.0",
            "_view_name": "HBoxView",
            "box_style": "",
            "children": [
              "IPY_MODEL_53006c9b5c45460b9c062413e4e9ddc2",
              "IPY_MODEL_16f6c2702be44a36aff533a7165cd3c4",
              "IPY_MODEL_62e624d8a2774218b68ca61a6c37fe0e"
            ],
            "layout": "IPY_MODEL_d7a9d63b303e47eabd2ec50a7e2c51b5"
          }
        },
        "53006c9b5c45460b9c062413e4e9ddc2": {
          "model_module": "@jupyter-widgets/controls",
          "model_name": "HTMLModel",
          "model_module_version": "1.5.0",
          "state": {
            "_dom_classes": [],
            "_model_module": "@jupyter-widgets/controls",
            "_model_module_version": "1.5.0",
            "_model_name": "HTMLModel",
            "_view_count": null,
            "_view_module": "@jupyter-widgets/controls",
            "_view_module_version": "1.5.0",
            "_view_name": "HTMLView",
            "description": "",
            "description_tooltip": null,
            "layout": "IPY_MODEL_06a2ece36d5d49e4afeac521d019a2ed",
            "placeholder": "​",
            "style": "IPY_MODEL_ab11b1c606d541fc8ca1a772fab27a7e",
            "value": ""
          }
        },
        "16f6c2702be44a36aff533a7165cd3c4": {
          "model_module": "@jupyter-widgets/controls",
          "model_name": "FloatProgressModel",
          "model_module_version": "1.5.0",
          "state": {
            "_dom_classes": [],
            "_model_module": "@jupyter-widgets/controls",
            "_model_module_version": "1.5.0",
            "_model_name": "FloatProgressModel",
            "_view_count": null,
            "_view_module": "@jupyter-widgets/controls",
            "_view_module_version": "1.5.0",
            "_view_name": "ProgressView",
            "bar_style": "success",
            "description": "",
            "description_tooltip": null,
            "layout": "IPY_MODEL_b2e5f05db8b4405291a6346da829e7ae",
            "max": 170498071,
            "min": 0,
            "orientation": "horizontal",
            "style": "IPY_MODEL_4731f277cfe94123b0fd9728017cc421",
            "value": 170498071
          }
        },
        "62e624d8a2774218b68ca61a6c37fe0e": {
          "model_module": "@jupyter-widgets/controls",
          "model_name": "HTMLModel",
          "model_module_version": "1.5.0",
          "state": {
            "_dom_classes": [],
            "_model_module": "@jupyter-widgets/controls",
            "_model_module_version": "1.5.0",
            "_model_name": "HTMLModel",
            "_view_count": null,
            "_view_module": "@jupyter-widgets/controls",
            "_view_module_version": "1.5.0",
            "_view_name": "HTMLView",
            "description": "",
            "description_tooltip": null,
            "layout": "IPY_MODEL_ef922e56aa8b433da029acd9adf1d35a",
            "placeholder": "​",
            "style": "IPY_MODEL_a5dc854ccd684d92af1a8b7be2baeea6",
            "value": " 170499072/? [00:03&lt;00:00, 54554350.93it/s]"
          }
        },
        "d7a9d63b303e47eabd2ec50a7e2c51b5": {
          "model_module": "@jupyter-widgets/base",
          "model_name": "LayoutModel",
          "model_module_version": "1.2.0",
          "state": {
            "_model_module": "@jupyter-widgets/base",
            "_model_module_version": "1.2.0",
            "_model_name": "LayoutModel",
            "_view_count": null,
            "_view_module": "@jupyter-widgets/base",
            "_view_module_version": "1.2.0",
            "_view_name": "LayoutView",
            "align_content": null,
            "align_items": null,
            "align_self": null,
            "border": null,
            "bottom": null,
            "display": null,
            "flex": null,
            "flex_flow": null,
            "grid_area": null,
            "grid_auto_columns": null,
            "grid_auto_flow": null,
            "grid_auto_rows": null,
            "grid_column": null,
            "grid_gap": null,
            "grid_row": null,
            "grid_template_areas": null,
            "grid_template_columns": null,
            "grid_template_rows": null,
            "height": null,
            "justify_content": null,
            "justify_items": null,
            "left": null,
            "margin": null,
            "max_height": null,
            "max_width": null,
            "min_height": null,
            "min_width": null,
            "object_fit": null,
            "object_position": null,
            "order": null,
            "overflow": null,
            "overflow_x": null,
            "overflow_y": null,
            "padding": null,
            "right": null,
            "top": null,
            "visibility": null,
            "width": null
          }
        },
        "06a2ece36d5d49e4afeac521d019a2ed": {
          "model_module": "@jupyter-widgets/base",
          "model_name": "LayoutModel",
          "model_module_version": "1.2.0",
          "state": {
            "_model_module": "@jupyter-widgets/base",
            "_model_module_version": "1.2.0",
            "_model_name": "LayoutModel",
            "_view_count": null,
            "_view_module": "@jupyter-widgets/base",
            "_view_module_version": "1.2.0",
            "_view_name": "LayoutView",
            "align_content": null,
            "align_items": null,
            "align_self": null,
            "border": null,
            "bottom": null,
            "display": null,
            "flex": null,
            "flex_flow": null,
            "grid_area": null,
            "grid_auto_columns": null,
            "grid_auto_flow": null,
            "grid_auto_rows": null,
            "grid_column": null,
            "grid_gap": null,
            "grid_row": null,
            "grid_template_areas": null,
            "grid_template_columns": null,
            "grid_template_rows": null,
            "height": null,
            "justify_content": null,
            "justify_items": null,
            "left": null,
            "margin": null,
            "max_height": null,
            "max_width": null,
            "min_height": null,
            "min_width": null,
            "object_fit": null,
            "object_position": null,
            "order": null,
            "overflow": null,
            "overflow_x": null,
            "overflow_y": null,
            "padding": null,
            "right": null,
            "top": null,
            "visibility": null,
            "width": null
          }
        },
        "ab11b1c606d541fc8ca1a772fab27a7e": {
          "model_module": "@jupyter-widgets/controls",
          "model_name": "DescriptionStyleModel",
          "model_module_version": "1.5.0",
          "state": {
            "_model_module": "@jupyter-widgets/controls",
            "_model_module_version": "1.5.0",
            "_model_name": "DescriptionStyleModel",
            "_view_count": null,
            "_view_module": "@jupyter-widgets/base",
            "_view_module_version": "1.2.0",
            "_view_name": "StyleView",
            "description_width": ""
          }
        },
        "b2e5f05db8b4405291a6346da829e7ae": {
          "model_module": "@jupyter-widgets/base",
          "model_name": "LayoutModel",
          "model_module_version": "1.2.0",
          "state": {
            "_model_module": "@jupyter-widgets/base",
            "_model_module_version": "1.2.0",
            "_model_name": "LayoutModel",
            "_view_count": null,
            "_view_module": "@jupyter-widgets/base",
            "_view_module_version": "1.2.0",
            "_view_name": "LayoutView",
            "align_content": null,
            "align_items": null,
            "align_self": null,
            "border": null,
            "bottom": null,
            "display": null,
            "flex": null,
            "flex_flow": null,
            "grid_area": null,
            "grid_auto_columns": null,
            "grid_auto_flow": null,
            "grid_auto_rows": null,
            "grid_column": null,
            "grid_gap": null,
            "grid_row": null,
            "grid_template_areas": null,
            "grid_template_columns": null,
            "grid_template_rows": null,
            "height": null,
            "justify_content": null,
            "justify_items": null,
            "left": null,
            "margin": null,
            "max_height": null,
            "max_width": null,
            "min_height": null,
            "min_width": null,
            "object_fit": null,
            "object_position": null,
            "order": null,
            "overflow": null,
            "overflow_x": null,
            "overflow_y": null,
            "padding": null,
            "right": null,
            "top": null,
            "visibility": null,
            "width": null
          }
        },
        "4731f277cfe94123b0fd9728017cc421": {
          "model_module": "@jupyter-widgets/controls",
          "model_name": "ProgressStyleModel",
          "model_module_version": "1.5.0",
          "state": {
            "_model_module": "@jupyter-widgets/controls",
            "_model_module_version": "1.5.0",
            "_model_name": "ProgressStyleModel",
            "_view_count": null,
            "_view_module": "@jupyter-widgets/base",
            "_view_module_version": "1.2.0",
            "_view_name": "StyleView",
            "bar_color": null,
            "description_width": ""
          }
        },
        "ef922e56aa8b433da029acd9adf1d35a": {
          "model_module": "@jupyter-widgets/base",
          "model_name": "LayoutModel",
          "model_module_version": "1.2.0",
          "state": {
            "_model_module": "@jupyter-widgets/base",
            "_model_module_version": "1.2.0",
            "_model_name": "LayoutModel",
            "_view_count": null,
            "_view_module": "@jupyter-widgets/base",
            "_view_module_version": "1.2.0",
            "_view_name": "LayoutView",
            "align_content": null,
            "align_items": null,
            "align_self": null,
            "border": null,
            "bottom": null,
            "display": null,
            "flex": null,
            "flex_flow": null,
            "grid_area": null,
            "grid_auto_columns": null,
            "grid_auto_flow": null,
            "grid_auto_rows": null,
            "grid_column": null,
            "grid_gap": null,
            "grid_row": null,
            "grid_template_areas": null,
            "grid_template_columns": null,
            "grid_template_rows": null,
            "height": null,
            "justify_content": null,
            "justify_items": null,
            "left": null,
            "margin": null,
            "max_height": null,
            "max_width": null,
            "min_height": null,
            "min_width": null,
            "object_fit": null,
            "object_position": null,
            "order": null,
            "overflow": null,
            "overflow_x": null,
            "overflow_y": null,
            "padding": null,
            "right": null,
            "top": null,
            "visibility": null,
            "width": null
          }
        },
        "a5dc854ccd684d92af1a8b7be2baeea6": {
          "model_module": "@jupyter-widgets/controls",
          "model_name": "DescriptionStyleModel",
          "model_module_version": "1.5.0",
          "state": {
            "_model_module": "@jupyter-widgets/controls",
            "_model_module_version": "1.5.0",
            "_model_name": "DescriptionStyleModel",
            "_view_count": null,
            "_view_module": "@jupyter-widgets/base",
            "_view_module_version": "1.2.0",
            "_view_name": "StyleView",
            "description_width": ""
          }
        },
        "b9a542b884ca451eb9de64f7d310d54b": {
          "model_module": "@jupyter-widgets/controls",
          "model_name": "HBoxModel",
          "model_module_version": "1.5.0",
          "state": {
            "_dom_classes": [],
            "_model_module": "@jupyter-widgets/controls",
            "_model_module_version": "1.5.0",
            "_model_name": "HBoxModel",
            "_view_count": null,
            "_view_module": "@jupyter-widgets/controls",
            "_view_module_version": "1.5.0",
            "_view_name": "HBoxView",
            "box_style": "",
            "children": [
              "IPY_MODEL_5436278fce1546a59c7b8c54c74a6075",
              "IPY_MODEL_91db1dc004f64f878d8e8bc8fce49ad9",
              "IPY_MODEL_3e11071176674088b4e25eb9fbee4753"
            ],
            "layout": "IPY_MODEL_a018094e5ca245ce9b1ae42f8978f622"
          }
        },
        "5436278fce1546a59c7b8c54c74a6075": {
          "model_module": "@jupyter-widgets/controls",
          "model_name": "HTMLModel",
          "model_module_version": "1.5.0",
          "state": {
            "_dom_classes": [],
            "_model_module": "@jupyter-widgets/controls",
            "_model_module_version": "1.5.0",
            "_model_name": "HTMLModel",
            "_view_count": null,
            "_view_module": "@jupyter-widgets/controls",
            "_view_module_version": "1.5.0",
            "_view_name": "HTMLView",
            "description": "",
            "description_tooltip": null,
            "layout": "IPY_MODEL_80e62996e6c04cb991d1d55eae28b2b9",
            "placeholder": "​",
            "style": "IPY_MODEL_d0fc7efe6469446b8b9c036383713a54",
            "value": "100%"
          }
        },
        "91db1dc004f64f878d8e8bc8fce49ad9": {
          "model_module": "@jupyter-widgets/controls",
          "model_name": "FloatProgressModel",
          "model_module_version": "1.5.0",
          "state": {
            "_dom_classes": [],
            "_model_module": "@jupyter-widgets/controls",
            "_model_module_version": "1.5.0",
            "_model_name": "FloatProgressModel",
            "_view_count": null,
            "_view_module": "@jupyter-widgets/controls",
            "_view_module_version": "1.5.0",
            "_view_name": "ProgressView",
            "bar_style": "success",
            "description": "",
            "description_tooltip": null,
            "layout": "IPY_MODEL_26e0a8a0532d48019121e41242328d5f",
            "max": 244408911,
            "min": 0,
            "orientation": "horizontal",
            "style": "IPY_MODEL_b3ec39b65c264f6faa722453ce7615c2",
            "value": 244408911
          }
        },
        "3e11071176674088b4e25eb9fbee4753": {
          "model_module": "@jupyter-widgets/controls",
          "model_name": "HTMLModel",
          "model_module_version": "1.5.0",
          "state": {
            "_dom_classes": [],
            "_model_module": "@jupyter-widgets/controls",
            "_model_module_version": "1.5.0",
            "_model_name": "HTMLModel",
            "_view_count": null,
            "_view_module": "@jupyter-widgets/controls",
            "_view_module_version": "1.5.0",
            "_view_name": "HTMLView",
            "description": "",
            "description_tooltip": null,
            "layout": "IPY_MODEL_fa025773920e4d5394224b81ebaeaac9",
            "placeholder": "​",
            "style": "IPY_MODEL_fac9abd066364d9ea6f01f86567140bc",
            "value": " 233M/233M [00:04&lt;00:00, 60.0MB/s]"
          }
        },
        "a018094e5ca245ce9b1ae42f8978f622": {
          "model_module": "@jupyter-widgets/base",
          "model_name": "LayoutModel",
          "model_module_version": "1.2.0",
          "state": {
            "_model_module": "@jupyter-widgets/base",
            "_model_module_version": "1.2.0",
            "_model_name": "LayoutModel",
            "_view_count": null,
            "_view_module": "@jupyter-widgets/base",
            "_view_module_version": "1.2.0",
            "_view_name": "LayoutView",
            "align_content": null,
            "align_items": null,
            "align_self": null,
            "border": null,
            "bottom": null,
            "display": null,
            "flex": null,
            "flex_flow": null,
            "grid_area": null,
            "grid_auto_columns": null,
            "grid_auto_flow": null,
            "grid_auto_rows": null,
            "grid_column": null,
            "grid_gap": null,
            "grid_row": null,
            "grid_template_areas": null,
            "grid_template_columns": null,
            "grid_template_rows": null,
            "height": null,
            "justify_content": null,
            "justify_items": null,
            "left": null,
            "margin": null,
            "max_height": null,
            "max_width": null,
            "min_height": null,
            "min_width": null,
            "object_fit": null,
            "object_position": null,
            "order": null,
            "overflow": null,
            "overflow_x": null,
            "overflow_y": null,
            "padding": null,
            "right": null,
            "top": null,
            "visibility": null,
            "width": null
          }
        },
        "80e62996e6c04cb991d1d55eae28b2b9": {
          "model_module": "@jupyter-widgets/base",
          "model_name": "LayoutModel",
          "model_module_version": "1.2.0",
          "state": {
            "_model_module": "@jupyter-widgets/base",
            "_model_module_version": "1.2.0",
            "_model_name": "LayoutModel",
            "_view_count": null,
            "_view_module": "@jupyter-widgets/base",
            "_view_module_version": "1.2.0",
            "_view_name": "LayoutView",
            "align_content": null,
            "align_items": null,
            "align_self": null,
            "border": null,
            "bottom": null,
            "display": null,
            "flex": null,
            "flex_flow": null,
            "grid_area": null,
            "grid_auto_columns": null,
            "grid_auto_flow": null,
            "grid_auto_rows": null,
            "grid_column": null,
            "grid_gap": null,
            "grid_row": null,
            "grid_template_areas": null,
            "grid_template_columns": null,
            "grid_template_rows": null,
            "height": null,
            "justify_content": null,
            "justify_items": null,
            "left": null,
            "margin": null,
            "max_height": null,
            "max_width": null,
            "min_height": null,
            "min_width": null,
            "object_fit": null,
            "object_position": null,
            "order": null,
            "overflow": null,
            "overflow_x": null,
            "overflow_y": null,
            "padding": null,
            "right": null,
            "top": null,
            "visibility": null,
            "width": null
          }
        },
        "d0fc7efe6469446b8b9c036383713a54": {
          "model_module": "@jupyter-widgets/controls",
          "model_name": "DescriptionStyleModel",
          "model_module_version": "1.5.0",
          "state": {
            "_model_module": "@jupyter-widgets/controls",
            "_model_module_version": "1.5.0",
            "_model_name": "DescriptionStyleModel",
            "_view_count": null,
            "_view_module": "@jupyter-widgets/base",
            "_view_module_version": "1.2.0",
            "_view_name": "StyleView",
            "description_width": ""
          }
        },
        "26e0a8a0532d48019121e41242328d5f": {
          "model_module": "@jupyter-widgets/base",
          "model_name": "LayoutModel",
          "model_module_version": "1.2.0",
          "state": {
            "_model_module": "@jupyter-widgets/base",
            "_model_module_version": "1.2.0",
            "_model_name": "LayoutModel",
            "_view_count": null,
            "_view_module": "@jupyter-widgets/base",
            "_view_module_version": "1.2.0",
            "_view_name": "LayoutView",
            "align_content": null,
            "align_items": null,
            "align_self": null,
            "border": null,
            "bottom": null,
            "display": null,
            "flex": null,
            "flex_flow": null,
            "grid_area": null,
            "grid_auto_columns": null,
            "grid_auto_flow": null,
            "grid_auto_rows": null,
            "grid_column": null,
            "grid_gap": null,
            "grid_row": null,
            "grid_template_areas": null,
            "grid_template_columns": null,
            "grid_template_rows": null,
            "height": null,
            "justify_content": null,
            "justify_items": null,
            "left": null,
            "margin": null,
            "max_height": null,
            "max_width": null,
            "min_height": null,
            "min_width": null,
            "object_fit": null,
            "object_position": null,
            "order": null,
            "overflow": null,
            "overflow_x": null,
            "overflow_y": null,
            "padding": null,
            "right": null,
            "top": null,
            "visibility": null,
            "width": null
          }
        },
        "b3ec39b65c264f6faa722453ce7615c2": {
          "model_module": "@jupyter-widgets/controls",
          "model_name": "ProgressStyleModel",
          "model_module_version": "1.5.0",
          "state": {
            "_model_module": "@jupyter-widgets/controls",
            "_model_module_version": "1.5.0",
            "_model_name": "ProgressStyleModel",
            "_view_count": null,
            "_view_module": "@jupyter-widgets/base",
            "_view_module_version": "1.2.0",
            "_view_name": "StyleView",
            "bar_color": null,
            "description_width": ""
          }
        },
        "fa025773920e4d5394224b81ebaeaac9": {
          "model_module": "@jupyter-widgets/base",
          "model_name": "LayoutModel",
          "model_module_version": "1.2.0",
          "state": {
            "_model_module": "@jupyter-widgets/base",
            "_model_module_version": "1.2.0",
            "_model_name": "LayoutModel",
            "_view_count": null,
            "_view_module": "@jupyter-widgets/base",
            "_view_module_version": "1.2.0",
            "_view_name": "LayoutView",
            "align_content": null,
            "align_items": null,
            "align_self": null,
            "border": null,
            "bottom": null,
            "display": null,
            "flex": null,
            "flex_flow": null,
            "grid_area": null,
            "grid_auto_columns": null,
            "grid_auto_flow": null,
            "grid_auto_rows": null,
            "grid_column": null,
            "grid_gap": null,
            "grid_row": null,
            "grid_template_areas": null,
            "grid_template_columns": null,
            "grid_template_rows": null,
            "height": null,
            "justify_content": null,
            "justify_items": null,
            "left": null,
            "margin": null,
            "max_height": null,
            "max_width": null,
            "min_height": null,
            "min_width": null,
            "object_fit": null,
            "object_position": null,
            "order": null,
            "overflow": null,
            "overflow_x": null,
            "overflow_y": null,
            "padding": null,
            "right": null,
            "top": null,
            "visibility": null,
            "width": null
          }
        },
        "fac9abd066364d9ea6f01f86567140bc": {
          "model_module": "@jupyter-widgets/controls",
          "model_name": "DescriptionStyleModel",
          "model_module_version": "1.5.0",
          "state": {
            "_model_module": "@jupyter-widgets/controls",
            "_model_module_version": "1.5.0",
            "_model_name": "DescriptionStyleModel",
            "_view_count": null,
            "_view_module": "@jupyter-widgets/base",
            "_view_module_version": "1.2.0",
            "_view_name": "StyleView",
            "description_width": ""
          }
        }
      }
    }
  },
  "nbformat": 4,
  "nbformat_minor": 0
}