{
  "cells": [
    {
      "cell_type": "markdown",
      "metadata": {
        "id": "view-in-github",
        "colab_type": "text"
      },
      "source": [
        "<a href=\"https://colab.research.google.com/github/yemaedahrav/CNN_Accelerators/blob/main/CIFAR_AlexNet.ipynb\" target=\"_parent\"><img src=\"https://colab.research.google.com/assets/colab-badge.svg\" alt=\"Open In Colab\"/></a>"
      ]
    },
    {
      "cell_type": "code",
      "execution_count": 1,
      "metadata": {
        "colab": {
          "base_uri": "https://localhost:8080/"
        },
        "id": "lWp1UCMKRDgZ",
        "outputId": "d450c121-d2f6-4c83-f09b-166103e70598"
      },
      "outputs": [
        {
          "output_type": "stream",
          "name": "stdout",
          "text": [
            "Collecting torchinfo\n",
            "  Downloading torchinfo-1.6.5-py3-none-any.whl (21 kB)\n",
            "Installing collected packages: torchinfo\n",
            "Successfully installed torchinfo-1.6.5\n"
          ]
        }
      ],
      "source": [
        "import torch\n",
        "import torch.nn as nn\n",
        "import torch.nn.functional as F\n",
        "import torchvision\n",
        "from torchvision import datasets, models, transforms\n",
        "from torchvision import datasets, transforms\n",
        "import torchvision.transforms as T\n",
        "from torchvision.utils import make_grid\n",
        "from torchvision.utils import save_image\n",
        "from torch.utils.data import DataLoader, Dataset\n",
        "import torch.optim as optim\n",
        "from torch.optim import lr_scheduler\n",
        "\n",
        "import time\n",
        "import os\n",
        "import shutil\n",
        "import copy\n",
        "import sys\n",
        "\n",
        "import PIL\n",
        "from IPython.display import Image\n",
        "import matplotlib.pyplot as plt\n",
        "import pandas as pd\n",
        "from sklearn.cluster import KMeans, MiniBatchKMeans\n",
        "from statistics import mean\n",
        "from collections  import OrderedDict\n",
        "import numpy as np\n",
        "from skimage import io, transform\n",
        "import random\n",
        "import scipy\n",
        "import cv2\n",
        "from math import floor, ceil\n",
        "\n",
        "!pip install torchinfo\n",
        "from torchinfo import summary\n",
        "\n",
        "%matplotlib inline"
      ]
    },
    {
      "cell_type": "code",
      "execution_count": 2,
      "metadata": {
        "id": "5PC5pCRTSBIv"
      },
      "outputs": [],
      "source": [
        "transform = transforms.Compose([transforms.Resize(256),\n",
        "                                transforms.RandomResizedCrop(224),\n",
        "                                transforms.ToTensor(),\n",
        "                                transforms.Normalize(mean=[0.485, 0.456, 0.406], std=[0.229, 0.224, 0.225]),\n",
        "                               ])"
      ]
    },
    {
      "cell_type": "code",
      "execution_count": 3,
      "metadata": {
        "colab": {
          "base_uri": "https://localhost:8080/",
          "height": 101,
          "referenced_widgets": [
            "583e30a8c6a94463bb1c54a5da5c7b9b",
            "3804193cebba498ab4c0b788475402bb",
            "2284169abd144139afc19cb4050c73cf",
            "2733296126df420887bd4340c6b6853d",
            "44b197e7a5fc47c6a34ca39f11cde384",
            "2d0087c51ef94233bcca337b6a0e1524",
            "c137b0c4d2754cc6b9b4493f7d97771e",
            "fae964c819ee4bd88b77f7530186da1c",
            "a10cb1389a524ad285718a989bd6d924",
            "e2e46ee2156f47feac14d9dca3d67fc7",
            "397f416f7db74bfca829e992333ef67b"
          ]
        },
        "id": "u07qNie5RTgv",
        "outputId": "3b04abb2-cf10-46b1-8bcc-8990ad2464be"
      },
      "outputs": [
        {
          "output_type": "stream",
          "name": "stdout",
          "text": [
            "Downloading https://www.cs.toronto.edu/~kriz/cifar-10-python.tar.gz to ./data/cifar-10-python.tar.gz\n"
          ]
        },
        {
          "output_type": "display_data",
          "data": {
            "text/plain": [
              "  0%|          | 0/170498071 [00:00<?, ?it/s]"
            ],
            "application/vnd.jupyter.widget-view+json": {
              "version_major": 2,
              "version_minor": 0,
              "model_id": "583e30a8c6a94463bb1c54a5da5c7b9b"
            }
          },
          "metadata": {}
        },
        {
          "output_type": "stream",
          "name": "stdout",
          "text": [
            "Extracting ./data/cifar-10-python.tar.gz to ./data\n",
            "Files already downloaded and verified\n"
          ]
        }
      ],
      "source": [
        "train_data = torchvision.datasets.CIFAR10(root='./data', train=True, download=True, transform=transform)\n",
        "trainloader = torch.utils.data.DataLoader(train_data, batch_size=4, shuffle=True, num_workers=2)\n",
        "\n",
        "test_data = torchvision.datasets.CIFAR10(root='./data', train=False, download=True, transform=transform)\n",
        "testloader = torch.utils.data.DataLoader(test_data, batch_size=4, shuffle=False, num_workers=2)\n",
        "\n",
        "classes = ('Airplane', 'Car', 'Bird', 'Cat', 'Deer', 'Dog', 'Frog', 'Horse', 'Ship', 'Truck')"
      ]
    },
    {
      "cell_type": "code",
      "execution_count": 4,
      "metadata": {
        "colab": {
          "base_uri": "https://localhost:8080/",
          "height": 170
        },
        "id": "k3TJAqg1SQO-",
        "outputId": "7281246c-8f34-460c-b4b8-bf78c5df34ab"
      },
      "outputs": [
        {
          "output_type": "stream",
          "name": "stderr",
          "text": [
            "Clipping input data to the valid range for imshow with RGB data ([0..1] for floats or [0..255] for integers).\n"
          ]
        },
        {
          "output_type": "display_data",
          "data": {
            "text/plain": [
              "<Figure size 432x288 with 1 Axes>"
            ],
            "image/png": "[encoded data removed]"
          },
          "metadata": {
            "needs_background": "light"
          }
        },
        {
          "output_type": "stream",
          "name": "stdout",
          "text": [
            "Airplane   Car  Ship  Deer\n"
          ]
        }
      ],
      "source": [
        "import matplotlib.pyplot as plt\n",
        "import numpy as np\n",
        "\n",
        "def imshow(img):\n",
        "    img = img / 2 + 0.5 \n",
        "    npimg = img.numpy()\n",
        "    plt.imshow(np.transpose(npimg, (1, 2, 0)))\n",
        "    plt.show()\n",
        "\n",
        "dataiter = iter(trainloader)\n",
        "images, labels = dataiter.next()\n",
        "\n",
        "imshow(torchvision.utils.make_grid(images))\n",
        "print(' '.join('%5s' % classes[labels[j]] for j in range(4)))"
      ]
    },
    {
      "cell_type": "code",
      "execution_count": 5,
      "metadata": {
        "colab": {
          "base_uri": "https://localhost:8080/",
          "height": 552,
          "referenced_widgets": [
            "2f4a89841cb843eea14a02464c553928",
            "2286f04b467040c09588a16c9c60f054",
            "41e6b0fb1b8c4dd1959b81bdc1caa3f1",
            "505e75e5b6d241278216dc0c165283b9",
            "ae6b10a2e549432d8dd1d8e713acd019",
            "ede5cf928bde445f91c6bbc8a8edd3a2",
            "5c955f5f56884c67810a1e51da39f844",
            "6b2a181badf0416d900502fe6c38ef5e",
            "b461f499577f4e5fba2f265e03b27226",
            "d85e34cc353d4ac2a28ec86f902fe4d4",
            "58e83534dcf1486ab6c1505078a52ae0"
          ]
        },
        "id": "_U7qLjdZc9ip",
        "outputId": "312feb0a-fdf1-47d0-cd49-c281176dcb81"
      },
      "outputs": [
        {
          "output_type": "stream",
          "name": "stderr",
          "text": [
            "Downloading: \"https://github.com/pytorch/vision/archive/v0.6.0.zip\" to /root/.cache/torch/hub/v0.6.0.zip\n",
            "Downloading: \"https://download.pytorch.org/models/alexnet-owt-7be5be79.pth\" to /root/.cache/torch/hub/checkpoints/alexnet-owt-7be5be79.pth\n"
          ]
        },
        {
          "output_type": "display_data",
          "data": {
            "text/plain": [
              "  0%|          | 0.00/233M [00:00<?, ?B/s]"
            ],
            "application/vnd.jupyter.widget-view+json": {
              "version_major": 2,
              "version_minor": 0,
              "model_id": "2f4a89841cb843eea14a02464c553928"
            }
          },
          "metadata": {}
        },
        {
          "output_type": "execute_result",
          "data": {
            "text/plain": [
              "AlexNet(\n",
              "  (features): Sequential(\n",
              "    (0): Conv2d(3, 64, kernel_size=(11, 11), stride=(4, 4), padding=(2, 2))\n",
              "    (1): ReLU(inplace=True)\n",
              "    (2): MaxPool2d(kernel_size=3, stride=2, padding=0, dilation=1, ceil_mode=False)\n",
              "    (3): Conv2d(64, 192, kernel_size=(5, 5), stride=(1, 1), padding=(2, 2))\n",
              "    (4): ReLU(inplace=True)\n",
              "    (5): MaxPool2d(kernel_size=3, stride=2, padding=0, dilation=1, ceil_mode=False)\n",
              "    (6): Conv2d(192, 384, kernel_size=(3, 3), stride=(1, 1), padding=(1, 1))\n",
              "    (7): ReLU(inplace=True)\n",
              "    (8): Conv2d(384, 256, kernel_size=(3, 3), stride=(1, 1), padding=(1, 1))\n",
              "    (9): ReLU(inplace=True)\n",
              "    (10): Conv2d(256, 256, kernel_size=(3, 3), stride=(1, 1), padding=(1, 1))\n",
              "    (11): ReLU(inplace=True)\n",
              "    (12): MaxPool2d(kernel_size=3, stride=2, padding=0, dilation=1, ceil_mode=False)\n",
              "  )\n",
              "  (avgpool): AdaptiveAvgPool2d(output_size=(6, 6))\n",
              "  (classifier): Sequential(\n",
              "    (0): Dropout(p=0.5, inplace=False)\n",
              "    (1): Linear(in_features=9216, out_features=4096, bias=True)\n",
              "    (2): ReLU(inplace=True)\n",
              "    (3): Dropout(p=0.5, inplace=False)\n",
              "    (4): Linear(in_features=4096, out_features=4096, bias=True)\n",
              "    (5): ReLU(inplace=True)\n",
              "    (6): Linear(in_features=4096, out_features=1000, bias=True)\n",
              "  )\n",
              ")"
            ]
          },
          "metadata": {},
          "execution_count": 5
        }
      ],
      "source": [
        "AlexNet_Model = torch.hub.load('pytorch/vision:v0.6.0', 'alexnet', pretrained=True)\n",
        "AlexNet_Model.eval()"
      ]
    },
    {
      "cell_type": "code",
      "execution_count": 6,
      "metadata": {
        "id": "hwO80p-tjv7M"
      },
      "outputs": [],
      "source": [
        "import torch.nn as nn\n",
        "AlexNet_Model.classifier[1] = nn.Linear(9216,4096)\n",
        "AlexNet_Model.classifier[4] = nn.Linear(4096,1024)\n",
        "AlexNet_Model.classifier[6] = nn.Linear(1024,10)"
      ]
    },
    {
      "cell_type": "code",
      "execution_count": 7,
      "metadata": {
        "colab": {
          "base_uri": "https://localhost:8080/"
        },
        "id": "J4_DnBMHkC-z",
        "outputId": "715ac1b0-2286-498f-9318-ac290ca229d8"
      },
      "outputs": [
        {
          "output_type": "execute_result",
          "data": {
            "text/plain": [
              "AlexNet(\n",
              "  (features): Sequential(\n",
              "    (0): Conv2d(3, 64, kernel_size=(11, 11), stride=(4, 4), padding=(2, 2))\n",
              "    (1): ReLU(inplace=True)\n",
              "    (2): MaxPool2d(kernel_size=3, stride=2, padding=0, dilation=1, ceil_mode=False)\n",
              "    (3): Conv2d(64, 192, kernel_size=(5, 5), stride=(1, 1), padding=(2, 2))\n",
              "    (4): ReLU(inplace=True)\n",
              "    (5): MaxPool2d(kernel_size=3, stride=2, padding=0, dilation=1, ceil_mode=False)\n",
              "    (6): Conv2d(192, 384, kernel_size=(3, 3), stride=(1, 1), padding=(1, 1))\n",
              "    (7): ReLU(inplace=True)\n",
              "    (8): Conv2d(384, 256, kernel_size=(3, 3), stride=(1, 1), padding=(1, 1))\n",
              "    (9): ReLU(inplace=True)\n",
              "    (10): Conv2d(256, 256, kernel_size=(3, 3), stride=(1, 1), padding=(1, 1))\n",
              "    (11): ReLU(inplace=True)\n",
              "    (12): MaxPool2d(kernel_size=3, stride=2, padding=0, dilation=1, ceil_mode=False)\n",
              "  )\n",
              "  (avgpool): AdaptiveAvgPool2d(output_size=(6, 6))\n",
              "  (classifier): Sequential(\n",
              "    (0): Dropout(p=0.5, inplace=False)\n",
              "    (1): Linear(in_features=9216, out_features=4096, bias=True)\n",
              "    (2): ReLU(inplace=True)\n",
              "    (3): Dropout(p=0.5, inplace=False)\n",
              "    (4): Linear(in_features=4096, out_features=1024, bias=True)\n",
              "    (5): ReLU(inplace=True)\n",
              "    (6): Linear(in_features=1024, out_features=10, bias=True)\n",
              "  )\n",
              ")"
            ]
          },
          "metadata": {},
          "execution_count": 7
        }
      ],
      "source": [
        "AlexNet_Model.eval()"
      ]
    },
    {
      "cell_type": "code",
      "execution_count": 8,
      "metadata": {
        "id": "4flyxAl8dyIQ"
      },
      "outputs": [],
      "source": [
        "device = torch.device(\"cuda:0\" if torch.cuda.is_available() else \"cpu\")"
      ]
    },
    {
      "cell_type": "code",
      "execution_count": 9,
      "metadata": {
        "colab": {
          "base_uri": "https://localhost:8080/"
        },
        "id": "KVbzA2yFiW2G",
        "outputId": "423ac0e1-567b-42b4-f343-4f1e64f4d6d2"
      },
      "outputs": [
        {
          "output_type": "stream",
          "name": "stdout",
          "text": [
            "cuda:0\n"
          ]
        }
      ],
      "source": [
        "print(device)"
      ]
    },
    {
      "cell_type": "code",
      "execution_count": 10,
      "metadata": {
        "colab": {
          "base_uri": "https://localhost:8080/"
        },
        "id": "XgmBpBExrjwA",
        "outputId": "e110647c-337b-4e10-aca2-23b1b1a1df0a"
      },
      "outputs": [
        {
          "output_type": "execute_result",
          "data": {
            "text/plain": [
              "AlexNet(\n",
              "  (features): Sequential(\n",
              "    (0): Conv2d(3, 64, kernel_size=(11, 11), stride=(4, 4), padding=(2, 2))\n",
              "    (1): ReLU(inplace=True)\n",
              "    (2): MaxPool2d(kernel_size=3, stride=2, padding=0, dilation=1, ceil_mode=False)\n",
              "    (3): Conv2d(64, 192, kernel_size=(5, 5), stride=(1, 1), padding=(2, 2))\n",
              "    (4): ReLU(inplace=True)\n",
              "    (5): MaxPool2d(kernel_size=3, stride=2, padding=0, dilation=1, ceil_mode=False)\n",
              "    (6): Conv2d(192, 384, kernel_size=(3, 3), stride=(1, 1), padding=(1, 1))\n",
              "    (7): ReLU(inplace=True)\n",
              "    (8): Conv2d(384, 256, kernel_size=(3, 3), stride=(1, 1), padding=(1, 1))\n",
              "    (9): ReLU(inplace=True)\n",
              "    (10): Conv2d(256, 256, kernel_size=(3, 3), stride=(1, 1), padding=(1, 1))\n",
              "    (11): ReLU(inplace=True)\n",
              "    (12): MaxPool2d(kernel_size=3, stride=2, padding=0, dilation=1, ceil_mode=False)\n",
              "  )\n",
              "  (avgpool): AdaptiveAvgPool2d(output_size=(6, 6))\n",
              "  (classifier): Sequential(\n",
              "    (0): Dropout(p=0.5, inplace=False)\n",
              "    (1): Linear(in_features=9216, out_features=4096, bias=True)\n",
              "    (2): ReLU(inplace=True)\n",
              "    (3): Dropout(p=0.5, inplace=False)\n",
              "    (4): Linear(in_features=4096, out_features=1024, bias=True)\n",
              "    (5): ReLU(inplace=True)\n",
              "    (6): Linear(in_features=1024, out_features=10, bias=True)\n",
              "  )\n",
              ")"
            ]
          },
          "metadata": {},
          "execution_count": 10
        }
      ],
      "source": [
        "AlexNet_Model.to(device)"
      ]
    },
    {
      "cell_type": "code",
      "execution_count": 11,
      "metadata": {
        "id": "bM-BE171qrnn"
      },
      "outputs": [],
      "source": [
        "criterion = nn.CrossEntropyLoss()\n",
        "optimizer = optim.SGD(AlexNet_Model.parameters(), lr=0.001, momentum=0.9)"
      ]
    },
    {
      "cell_type": "code",
      "execution_count": 12,
      "metadata": {
        "id": "vD_NM-4AdDiA",
        "colab": {
          "base_uri": "https://localhost:8080/"
        },
        "outputId": "dbdfc153-a066-4f14-c53c-e8af88847ab9"
      },
      "outputs": [
        {
          "output_type": "stream",
          "name": "stdout",
          "text": [
            "[1,  1000] loss: 0.883\n",
            "Time: 18.462550401687622\n",
            "[1,  2000] loss: 0.749\n",
            "Time: 37.2753643989563\n",
            "[1,  3000] loss: 0.717\n",
            "Time: 54.97503972053528\n",
            "[1,  4000] loss: 0.686\n",
            "Time: 73.16854619979858\n",
            "[1,  5000] loss: 0.646\n",
            "Time: 91.56078362464905\n",
            "[1,  6000] loss: 0.645\n",
            "Time: 109.62395286560059\n",
            "[1,  7000] loss: 0.602\n",
            "Time: 127.95196986198425\n",
            "[1,  8000] loss: 0.605\n",
            "Time: 145.81007552146912\n",
            "[1,  9000] loss: 0.597\n",
            "Time: 163.79113936424255\n",
            "[1, 10000] loss: 0.596\n",
            "Time: 182.2528097629547\n",
            "[1, 11000] loss: 0.569\n",
            "Time: 200.4027738571167\n",
            "[1, 12000] loss: 0.579\n",
            "Time: 218.05982565879822\n",
            "[2,  1000] loss: 0.539\n",
            "Time: 18.343755960464478\n",
            "[2,  2000] loss: 0.547\n",
            "Time: 36.41596245765686\n",
            "[2,  3000] loss: 0.531\n",
            "Time: 54.44908380508423\n",
            "[2,  4000] loss: 0.532\n",
            "Time: 72.3243727684021\n",
            "[2,  5000] loss: 0.527\n",
            "Time: 90.18355107307434\n",
            "[2,  6000] loss: 0.554\n",
            "Time: 108.28513383865356\n",
            "[2,  7000] loss: 0.525\n",
            "Time: 126.44945025444031\n",
            "[2,  8000] loss: 0.515\n",
            "Time: 144.1806468963623\n",
            "[2,  9000] loss: 0.523\n",
            "Time: 162.18037676811218\n",
            "[2, 10000] loss: 0.516\n",
            "Time: 180.5998396873474\n",
            "[2, 11000] loss: 0.504\n",
            "Time: 198.61194014549255\n",
            "[2, 12000] loss: 0.516\n",
            "Time: 216.67660450935364\n",
            "[3,  1000] loss: 0.473\n",
            "Time: 18.05632710456848\n",
            "[3,  2000] loss: 0.500\n",
            "Time: 36.1797878742218\n",
            "[3,  3000] loss: 0.485\n",
            "Time: 54.06518292427063\n",
            "[3,  4000] loss: 0.473\n",
            "Time: 71.95945405960083\n",
            "[3,  5000] loss: 0.462\n",
            "Time: 89.59154796600342\n",
            "[3,  6000] loss: 0.468\n",
            "Time: 108.11212754249573\n",
            "[3,  7000] loss: 0.480\n",
            "Time: 126.34595918655396\n",
            "[3,  8000] loss: 0.467\n",
            "Time: 144.56655025482178\n",
            "[3,  9000] loss: 0.484\n",
            "Time: 162.41231322288513\n",
            "[3, 10000] loss: 0.468\n",
            "Time: 180.20849752426147\n",
            "[3, 11000] loss: 0.465\n",
            "Time: 198.14705991744995\n",
            "[3, 12000] loss: 0.472\n",
            "Time: 216.0971598625183\n",
            "[4,  1000] loss: 0.436\n",
            "Time: 18.053261518478394\n",
            "[4,  2000] loss: 0.450\n",
            "Time: 36.22514081001282\n",
            "[4,  3000] loss: 0.454\n",
            "Time: 54.42242741584778\n",
            "[4,  4000] loss: 0.442\n",
            "Time: 72.62081480026245\n",
            "[4,  5000] loss: 0.445\n",
            "Time: 90.55890130996704\n",
            "[4,  6000] loss: 0.435\n",
            "Time: 108.49574375152588\n",
            "[4,  7000] loss: 0.447\n",
            "Time: 126.79089641571045\n",
            "[4,  8000] loss: 0.434\n",
            "Time: 144.95873999595642\n",
            "[4,  9000] loss: 0.444\n",
            "Time: 163.1787974834442\n",
            "[4, 10000] loss: 0.429\n",
            "Time: 181.08846497535706\n",
            "[4, 11000] loss: 0.453\n",
            "Time: 199.36958360671997\n",
            "[4, 12000] loss: 0.425\n",
            "Time: 217.32175254821777\n",
            "[5,  1000] loss: 0.424\n",
            "Time: 17.807395219802856\n",
            "[5,  2000] loss: 0.411\n",
            "Time: 35.618261098861694\n",
            "[5,  3000] loss: 0.422\n",
            "Time: 53.44867253303528\n",
            "[5,  4000] loss: 0.428\n",
            "Time: 71.35447812080383\n",
            "[5,  5000] loss: 0.415\n",
            "Time: 89.4480938911438\n",
            "[5,  6000] loss: 0.428\n",
            "Time: 107.62844753265381\n",
            "[5,  7000] loss: 0.412\n",
            "Time: 125.25199770927429\n",
            "[5,  8000] loss: 0.422\n",
            "Time: 143.27573156356812\n",
            "[5,  9000] loss: 0.425\n",
            "Time: 161.45330429077148\n",
            "[5, 10000] loss: 0.423\n",
            "Time: 179.68517804145813\n",
            "[5, 11000] loss: 0.421\n",
            "Time: 197.5703887939453\n",
            "[5, 12000] loss: 0.413\n",
            "Time: 215.60366320610046\n",
            "[6,  1000] loss: 0.403\n",
            "Time: 17.953852891921997\n",
            "[6,  2000] loss: 0.407\n",
            "Time: 35.7946720123291\n",
            "[6,  3000] loss: 0.393\n",
            "Time: 53.75879764556885\n",
            "[6,  4000] loss: 0.398\n",
            "Time: 71.58651280403137\n",
            "[6,  5000] loss: 0.398\n",
            "Time: 89.57890105247498\n",
            "[6,  6000] loss: 0.395\n",
            "Time: 107.93095803260803\n",
            "[6,  7000] loss: 0.399\n",
            "Time: 126.06761264801025\n",
            "[6,  8000] loss: 0.410\n",
            "Time: 143.84594297409058\n",
            "[6,  9000] loss: 0.402\n",
            "Time: 161.9049608707428\n",
            "[6, 10000] loss: 0.407\n",
            "Time: 180.11591863632202\n",
            "[6, 11000] loss: 0.383\n",
            "Time: 198.16981959342957\n",
            "[6, 12000] loss: 0.403\n",
            "Time: 215.80745029449463\n",
            "[7,  1000] loss: 0.374\n",
            "Time: 17.81830334663391\n",
            "[7,  2000] loss: 0.380\n",
            "Time: 35.59052109718323\n",
            "[7,  3000] loss: 0.392\n",
            "Time: 53.45687818527222\n",
            "[7,  4000] loss: 0.386\n",
            "Time: 71.41587352752686\n",
            "[7,  5000] loss: 0.382\n",
            "Time: 89.5666913986206\n",
            "[7,  6000] loss: 0.388\n",
            "Time: 107.70769119262695\n",
            "[7,  7000] loss: 0.389\n",
            "Time: 125.95908713340759\n",
            "[7,  8000] loss: 0.387\n",
            "Time: 144.1108717918396\n",
            "[7,  9000] loss: 0.377\n",
            "Time: 161.9649019241333\n",
            "[7, 10000] loss: 0.388\n",
            "Time: 179.95157623291016\n",
            "[7, 11000] loss: 0.403\n",
            "Time: 198.1953523159027\n",
            "[7, 12000] loss: 0.394\n",
            "Time: 216.1090211868286\n",
            "[8,  1000] loss: 0.366\n",
            "Time: 17.977156400680542\n",
            "[8,  2000] loss: 0.364\n",
            "Time: 36.01168775558472\n",
            "[8,  3000] loss: 0.377\n",
            "Time: 54.043792486190796\n",
            "[8,  4000] loss: 0.371\n",
            "Time: 72.21503973007202\n",
            "[8,  5000] loss: 0.379\n",
            "Time: 90.10553336143494\n",
            "[8,  6000] loss: 0.381\n",
            "Time: 108.18598365783691\n",
            "[8,  7000] loss: 0.384\n",
            "Time: 126.61149787902832\n",
            "[8,  8000] loss: 0.374\n",
            "Time: 144.93800258636475\n",
            "[8,  9000] loss: 0.379\n",
            "Time: 162.99890112876892\n",
            "[8, 10000] loss: 0.372\n",
            "Time: 180.90993285179138\n",
            "[8, 11000] loss: 0.386\n",
            "Time: 198.9087553024292\n",
            "[8, 12000] loss: 0.394\n",
            "Time: 217.04752731323242\n",
            "[9,  1000] loss: 0.362\n",
            "Time: 18.237375020980835\n",
            "[9,  2000] loss: 0.337\n",
            "Time: 35.96286177635193\n",
            "[9,  3000] loss: 0.358\n",
            "Time: 53.90362501144409\n",
            "[9,  4000] loss: 0.359\n",
            "Time: 71.89480519294739\n",
            "[9,  5000] loss: 0.370\n",
            "Time: 89.97913074493408\n",
            "[9,  6000] loss: 0.362\n",
            "Time: 107.80312442779541\n",
            "[9,  7000] loss: 0.365\n",
            "Time: 126.18953800201416\n",
            "[9,  8000] loss: 0.363\n",
            "Time: 144.3774266242981\n",
            "[9,  9000] loss: 0.369\n",
            "Time: 162.4509153366089\n",
            "[9, 10000] loss: 0.383\n",
            "Time: 180.23761010169983\n",
            "[9, 11000] loss: 0.360\n",
            "Time: 198.0127251148224\n",
            "[9, 12000] loss: 0.357\n",
            "Time: 216.1012749671936\n",
            "[10,  1000] loss: 0.353\n",
            "Time: 17.982739210128784\n",
            "[10,  2000] loss: 0.345\n",
            "Time: 35.713770389556885\n",
            "[10,  3000] loss: 0.341\n",
            "Time: 53.377888679504395\n",
            "[10,  4000] loss: 0.354\n",
            "Time: 71.38101577758789\n",
            "[10,  5000] loss: 0.369\n",
            "Time: 89.40873312950134\n",
            "[10,  6000] loss: 0.371\n",
            "Time: 107.43303513526917\n",
            "[10,  7000] loss: 0.365\n",
            "Time: 125.18403911590576\n",
            "[10,  8000] loss: 0.351\n",
            "Time: 143.16488599777222\n",
            "[10,  9000] loss: 0.359\n",
            "Time: 161.076402425766\n",
            "[10, 10000] loss: 0.363\n",
            "Time: 179.12068390846252\n",
            "[10, 11000] loss: 0.352\n",
            "Time: 197.1712930202484\n",
            "[10, 12000] loss: 0.356\n",
            "Time: 215.14831590652466\n",
            "Finished Training of AlexNet\n"
          ]
        }
      ],
      "source": [
        "for epoch in range(10):\n",
        "    running_loss = 0.0\n",
        "    start_time = time.time()\n",
        "    for i, data in enumerate(trainloader, 0):\n",
        "        inputs, labels = data[0].to(device), data[1].to(device)\n",
        "        optimizer.zero_grad()\n",
        "        output = AlexNet_Model(inputs)\n",
        "        loss = criterion(output, labels)\n",
        "        loss.backward()\n",
        "        optimizer.step()\n",
        "\n",
        "        end_time = time.time()\n",
        "        time_taken = end_time - start_time\n",
        "\n",
        "        running_loss += loss.item()\n",
        "        if i % 1000 == 999:    \n",
        "            print('[%d, %5d] loss: %.3f' % (epoch + 1, i + 1, running_loss / 2000))\n",
        "            print('Time:',time_taken)\n",
        "            running_loss = 0.0\n",
        "\n",
        "print('Finished Training of AlexNet')"
      ]
    },
    {
      "cell_type": "code",
      "execution_count": 13,
      "metadata": {
        "id": "ZiZgc7PJBw1p",
        "colab": {
          "base_uri": "https://localhost:8080/"
        },
        "outputId": "53cc3cbc-dde2-4d10-9fe8-1dd7008953cd"
      },
      "outputs": [
        {
          "output_type": "stream",
          "name": "stdout",
          "text": [
            "Accuracy of the network on the 10000 test images: 73.01 %\n"
          ]
        }
      ],
      "source": [
        "correct = 0\n",
        "total = 0\n",
        "with torch.no_grad():\n",
        "    for data in testloader:\n",
        "        images, labels = data[0].to(device), data[1].to(device)\n",
        "        outputs = AlexNet_Model(images)\n",
        "        _, predicted = torch.max(outputs.data, 1)\n",
        "        total += labels.size(0)\n",
        "        correct += (predicted == labels).sum().item()\n",
        "\n",
        "print('Accuracy of the network on the 10000 test images: %.2f %%' % (100 * correct / total))"
      ]
    },
    {
      "cell_type": "code",
      "execution_count": 19,
      "metadata": {
        "id": "y3xhET4wbujY",
        "colab": {
          "base_uri": "https://localhost:8080/",
          "height": 17
        },
        "outputId": "2e01d685-7761-4d04-f4dd-08905eda5b1b"
      },
      "outputs": [
        {
          "output_type": "display_data",
          "data": {
            "text/plain": [
              "<IPython.core.display.Javascript object>"
            ],
            "application/javascript": [
              "\n",
              "    async function download(id, filename, size) {\n",
              "      if (!google.colab.kernel.accessAllowed) {\n",
              "        return;\n",
              "      }\n",
              "      const div = document.createElement('div');\n",
              "      const label = document.createElement('label');\n",
              "      label.textContent = `Downloading \"${filename}\": `;\n",
              "      div.appendChild(label);\n",
              "      const progress = document.createElement('progress');\n",
              "      progress.max = size;\n",
              "      div.appendChild(progress);\n",
              "      document.body.appendChild(div);\n",
              "\n",
              "      const buffers = [];\n",
              "      let downloaded = 0;\n",
              "\n",
              "      const channel = await google.colab.kernel.comms.open(id);\n",
              "      // Send a message to notify the kernel that we're ready.\n",
              "      channel.send({})\n",
              "\n",
              "      for await (const message of channel.messages) {\n",
              "        // Send a message to notify the kernel that we're ready.\n",
              "        channel.send({})\n",
              "        if (message.buffers) {\n",
              "          for (const buffer of message.buffers) {\n",
              "            buffers.push(buffer);\n",
              "            downloaded += buffer.byteLength;\n",
              "            progress.value = downloaded;\n",
              "          }\n",
              "        }\n",
              "      }\n",
              "      const blob = new Blob(buffers, {type: 'application/binary'});\n",
              "      const a = document.createElement('a');\n",
              "      a.href = window.URL.createObjectURL(blob);\n",
              "      a.download = filename;\n",
              "      div.appendChild(a);\n",
              "      a.click();\n",
              "      div.remove();\n",
              "    }\n",
              "  "
            ]
          },
          "metadata": {}
        },
        {
          "output_type": "display_data",
          "data": {
            "text/plain": [
              "<IPython.core.display.Javascript object>"
            ],
            "application/javascript": [
              "download(\"download_d5ce571a-1fb4-4b63-8def-f41d0b69f783\", \"AlexNet_CIFAR.pth\", 177717493)"
            ]
          },
          "metadata": {}
        }
      ],
      "source": [
        "from google.colab import files\n",
        "\n",
        "torch.save(AlexNet_Model.state_dict(), 'AlexNet_CIFAR.pth')\n",
        "files.download('AlexNet_CIFAR.pth')"
      ]
    }
  ],
  "metadata": {
    "accelerator": "GPU",
    "colab": {
      "name": "CIFAR_AlexNet.ipynb",
      "provenance": [],
      "collapsed_sections": [],
      "include_colab_link": true
    },
    "kernelspec": {
      "display_name": "Python 3 (ipykernel)",
      "language": "python",
      "name": "python3"
    },
    "language_info": {
      "codemirror_mode": {
        "name": "ipython",
        "version": 3
      },
      "file_extension": ".py",
      "mimetype": "text/x-python",
      "name": "python",
      "nbconvert_exporter": "python",
      "pygments_lexer": "ipython3",
      "version": "3.8.12"
    },
    "widgets": {
      "application/vnd.jupyter.widget-state+json": {
        "583e30a8c6a94463bb1c54a5da5c7b9b": {
          "model_module": "@jupyter-widgets/controls",
          "model_name": "HBoxModel",
          "model_module_version": "1.5.0",
          "state": {
            "_dom_classes": [],
            "_model_module": "@jupyter-widgets/controls",
            "_model_module_version": "1.5.0",
            "_model_name": "HBoxModel",
            "_view_count": null,
            "_view_module": "@jupyter-widgets/controls",
            "_view_module_version": "1.5.0",
            "_view_name": "HBoxView",
            "box_style": "",
            "children": [
              "IPY_MODEL_3804193cebba498ab4c0b788475402bb",
              "IPY_MODEL_2284169abd144139afc19cb4050c73cf",
              "IPY_MODEL_2733296126df420887bd4340c6b6853d"
            ],
            "layout": "IPY_MODEL_44b197e7a5fc47c6a34ca39f11cde384"
          }
        },
        "3804193cebba498ab4c0b788475402bb": {
          "model_module": "@jupyter-widgets/controls",
          "model_name": "HTMLModel",
          "model_module_version": "1.5.0",
          "state": {
            "_dom_classes": [],
            "_model_module": "@jupyter-widgets/controls",
            "_model_module_version": "1.5.0",
            "_model_name": "HTMLModel",
            "_view_count": null,
            "_view_module": "@jupyter-widgets/controls",
            "_view_module_version": "1.5.0",
            "_view_name": "HTMLView",
            "description": "",
            "description_tooltip": null,
            "layout": "IPY_MODEL_2d0087c51ef94233bcca337b6a0e1524",
            "placeholder": "​",
            "style": "IPY_MODEL_c137b0c4d2754cc6b9b4493f7d97771e",
            "value": ""
          }
        },
        "2284169abd144139afc19cb4050c73cf": {
          "model_module": "@jupyter-widgets/controls",
          "model_name": "FloatProgressModel",
          "model_module_version": "1.5.0",
          "state": {
            "_dom_classes": [],
            "_model_module": "@jupyter-widgets/controls",
            "_model_module_version": "1.5.0",
            "_model_name": "FloatProgressModel",
            "_view_count": null,
            "_view_module": "@jupyter-widgets/controls",
            "_view_module_version": "1.5.0",
            "_view_name": "ProgressView",
            "bar_style": "success",
            "description": "",
            "description_tooltip": null,
            "layout": "IPY_MODEL_fae964c819ee4bd88b77f7530186da1c",
            "max": 170498071,
            "min": 0,
            "orientation": "horizontal",
            "style": "IPY_MODEL_a10cb1389a524ad285718a989bd6d924",
            "value": 170498071
          }
        },
        "2733296126df420887bd4340c6b6853d": {
          "model_module": "@jupyter-widgets/controls",
          "model_name": "HTMLModel",
          "model_module_version": "1.5.0",
          "state": {
            "_dom_classes": [],
            "_model_module": "@jupyter-widgets/controls",
            "_model_module_version": "1.5.0",
            "_model_name": "HTMLModel",
            "_view_count": null,
            "_view_module": "@jupyter-widgets/controls",
            "_view_module_version": "1.5.0",
            "_view_name": "HTMLView",
            "description": "",
            "description_tooltip": null,
            "layout": "IPY_MODEL_e2e46ee2156f47feac14d9dca3d67fc7",
            "placeholder": "​",
            "style": "IPY_MODEL_397f416f7db74bfca829e992333ef67b",
            "value": " 170499072/? [00:02&lt;00:00, 79782191.45it/s]"
          }
        },
        "44b197e7a5fc47c6a34ca39f11cde384": {
          "model_module": "@jupyter-widgets/base",
          "model_name": "LayoutModel",
          "model_module_version": "1.2.0",
          "state": {
            "_model_module": "@jupyter-widgets/base",
            "_model_module_version": "1.2.0",
            "_model_name": "LayoutModel",
            "_view_count": null,
            "_view_module": "@jupyter-widgets/base",
            "_view_module_version": "1.2.0",
            "_view_name": "LayoutView",
            "align_content": null,
            "align_items": null,
            "align_self": null,
            "border": null,
            "bottom": null,
            "display": null,
            "flex": null,
            "flex_flow": null,
            "grid_area": null,
            "grid_auto_columns": null,
            "grid_auto_flow": null,
            "grid_auto_rows": null,
            "grid_column": null,
            "grid_gap": null,
            "grid_row": null,
            "grid_template_areas": null,
            "grid_template_columns": null,
            "grid_template_rows": null,
            "height": null,
            "justify_content": null,
            "justify_items": null,
            "left": null,
            "margin": null,
            "max_height": null,
            "max_width": null,
            "min_height": null,
            "min_width": null,
            "object_fit": null,
            "object_position": null,
            "order": null,
            "overflow": null,
            "overflow_x": null,
            "overflow_y": null,
            "padding": null,
            "right": null,
            "top": null,
            "visibility": null,
            "width": null
          }
        },
        "2d0087c51ef94233bcca337b6a0e1524": {
          "model_module": "@jupyter-widgets/base",
          "model_name": "LayoutModel",
          "model_module_version": "1.2.0",
          "state": {
            "_model_module": "@jupyter-widgets/base",
            "_model_module_version": "1.2.0",
            "_model_name": "LayoutModel",
            "_view_count": null,
            "_view_module": "@jupyter-widgets/base",
            "_view_module_version": "1.2.0",
            "_view_name": "LayoutView",
            "align_content": null,
            "align_items": null,
            "align_self": null,
            "border": null,
            "bottom": null,
            "display": null,
            "flex": null,
            "flex_flow": null,
            "grid_area": null,
            "grid_auto_columns": null,
            "grid_auto_flow": null,
            "grid_auto_rows": null,
            "grid_column": null,
            "grid_gap": null,
            "grid_row": null,
            "grid_template_areas": null,
            "grid_template_columns": null,
            "grid_template_rows": null,
            "height": null,
            "justify_content": null,
            "justify_items": null,
            "left": null,
            "margin": null,
            "max_height": null,
            "max_width": null,
            "min_height": null,
            "min_width": null,
            "object_fit": null,
            "object_position": null,
            "order": null,
            "overflow": null,
            "overflow_x": null,
            "overflow_y": null,
            "padding": null,
            "right": null,
            "top": null,
            "visibility": null,
            "width": null
          }
        },
        "c137b0c4d2754cc6b9b4493f7d97771e": {
          "model_module": "@jupyter-widgets/controls",
          "model_name": "DescriptionStyleModel",
          "model_module_version": "1.5.0",
          "state": {
            "_model_module": "@jupyter-widgets/controls",
            "_model_module_version": "1.5.0",
            "_model_name": "DescriptionStyleModel",
            "_view_count": null,
            "_view_module": "@jupyter-widgets/base",
            "_view_module_version": "1.2.0",
            "_view_name": "StyleView",
            "description_width": ""
          }
        },
        "fae964c819ee4bd88b77f7530186da1c": {
          "model_module": "@jupyter-widgets/base",
          "model_name": "LayoutModel",
          "model_module_version": "1.2.0",
          "state": {
            "_model_module": "@jupyter-widgets/base",
            "_model_module_version": "1.2.0",
            "_model_name": "LayoutModel",
            "_view_count": null,
            "_view_module": "@jupyter-widgets/base",
            "_view_module_version": "1.2.0",
            "_view_name": "LayoutView",
            "align_content": null,
            "align_items": null,
            "align_self": null,
            "border": null,
            "bottom": null,
            "display": null,
            "flex": null,
            "flex_flow": null,
            "grid_area": null,
            "grid_auto_columns": null,
            "grid_auto_flow": null,
            "grid_auto_rows": null,
            "grid_column": null,
            "grid_gap": null,
            "grid_row": null,
            "grid_template_areas": null,
            "grid_template_columns": null,
            "grid_template_rows": null,
            "height": null,
            "justify_content": null,
            "justify_items": null,
            "left": null,
            "margin": null,
            "max_height": null,
            "max_width": null,
            "min_height": null,
            "min_width": null,
            "object_fit": null,
            "object_position": null,
            "order": null,
            "overflow": null,
            "overflow_x": null,
            "overflow_y": null,
            "padding": null,
            "right": null,
            "top": null,
            "visibility": null,
            "width": null
          }
        },
        "a10cb1389a524ad285718a989bd6d924": {
          "model_module": "@jupyter-widgets/controls",
          "model_name": "ProgressStyleModel",
          "model_module_version": "1.5.0",
          "state": {
            "_model_module": "@jupyter-widgets/controls",
            "_model_module_version": "1.5.0",
            "_model_name": "ProgressStyleModel",
            "_view_count": null,
            "_view_module": "@jupyter-widgets/base",
            "_view_module_version": "1.2.0",
            "_view_name": "StyleView",
            "bar_color": null,
            "description_width": ""
          }
        },
        "e2e46ee2156f47feac14d9dca3d67fc7": {
          "model_module": "@jupyter-widgets/base",
          "model_name": "LayoutModel",
          "model_module_version": "1.2.0",
          "state": {
            "_model_module": "@jupyter-widgets/base",
            "_model_module_version": "1.2.0",
            "_model_name": "LayoutModel",
            "_view_count": null,
            "_view_module": "@jupyter-widgets/base",
            "_view_module_version": "1.2.0",
            "_view_name": "LayoutView",
            "align_content": null,
            "align_items": null,
            "align_self": null,
            "border": null,
            "bottom": null,
            "display": null,
            "flex": null,
            "flex_flow": null,
            "grid_area": null,
            "grid_auto_columns": null,
            "grid_auto_flow": null,
            "grid_auto_rows": null,
            "grid_column": null,
            "grid_gap": null,
            "grid_row": null,
            "grid_template_areas": null,
            "grid_template_columns": null,
            "grid_template_rows": null,
            "height": null,
            "justify_content": null,
            "justify_items": null,
            "left": null,
            "margin": null,
            "max_height": null,
            "max_width": null,
            "min_height": null,
            "min_width": null,
            "object_fit": null,
            "object_position": null,
            "order": null,
            "overflow": null,
            "overflow_x": null,
            "overflow_y": null,
            "padding": null,
            "right": null,
            "top": null,
            "visibility": null,
            "width": null
          }
        },
        "397f416f7db74bfca829e992333ef67b": {
          "model_module": "@jupyter-widgets/controls",
          "model_name": "DescriptionStyleModel",
          "model_module_version": "1.5.0",
          "state": {
            "_model_module": "@jupyter-widgets/controls",
            "_model_module_version": "1.5.0",
            "_model_name": "DescriptionStyleModel",
            "_view_count": null,
            "_view_module": "@jupyter-widgets/base",
            "_view_module_version": "1.2.0",
            "_view_name": "StyleView",
            "description_width": ""
          }
        },
        "2f4a89841cb843eea14a02464c553928": {
          "model_module": "@jupyter-widgets/controls",
          "model_name": "HBoxModel",
          "model_module_version": "1.5.0",
          "state": {
            "_dom_classes": [],
            "_model_module": "@jupyter-widgets/controls",
            "_model_module_version": "1.5.0",
            "_model_name": "HBoxModel",
            "_view_count": null,
            "_view_module": "@jupyter-widgets/controls",
            "_view_module_version": "1.5.0",
            "_view_name": "HBoxView",
            "box_style": "",
            "children": [
              "IPY_MODEL_2286f04b467040c09588a16c9c60f054",
              "IPY_MODEL_41e6b0fb1b8c4dd1959b81bdc1caa3f1",
              "IPY_MODEL_505e75e5b6d241278216dc0c165283b9"
            ],
            "layout": "IPY_MODEL_ae6b10a2e549432d8dd1d8e713acd019"
          }
        },
        "2286f04b467040c09588a16c9c60f054": {
          "model_module": "@jupyter-widgets/controls",
          "model_name": "HTMLModel",
          "model_module_version": "1.5.0",
          "state": {
            "_dom_classes": [],
            "_model_module": "@jupyter-widgets/controls",
            "_model_module_version": "1.5.0",
            "_model_name": "HTMLModel",
            "_view_count": null,
            "_view_module": "@jupyter-widgets/controls",
            "_view_module_version": "1.5.0",
            "_view_name": "HTMLView",
            "description": "",
            "description_tooltip": null,
            "layout": "IPY_MODEL_ede5cf928bde445f91c6bbc8a8edd3a2",
            "placeholder": "​",
            "style": "IPY_MODEL_5c955f5f56884c67810a1e51da39f844",
            "value": "100%"
          }
        },
        "41e6b0fb1b8c4dd1959b81bdc1caa3f1": {
          "model_module": "@jupyter-widgets/controls",
          "model_name": "FloatProgressModel",
          "model_module_version": "1.5.0",
          "state": {
            "_dom_classes": [],
            "_model_module": "@jupyter-widgets/controls",
            "_model_module_version": "1.5.0",
            "_model_name": "FloatProgressModel",
            "_view_count": null,
            "_view_module": "@jupyter-widgets/controls",
            "_view_module_version": "1.5.0",
            "_view_name": "ProgressView",
            "bar_style": "success",
            "description": "",
            "description_tooltip": null,
            "layout": "IPY_MODEL_6b2a181badf0416d900502fe6c38ef5e",
            "max": 244408911,
            "min": 0,
            "orientation": "horizontal",
            "style": "IPY_MODEL_b461f499577f4e5fba2f265e03b27226",
            "value": 244408911
          }
        },
        "505e75e5b6d241278216dc0c165283b9": {
          "model_module": "@jupyter-widgets/controls",
          "model_name": "HTMLModel",
          "model_module_version": "1.5.0",
          "state": {
            "_dom_classes": [],
            "_model_module": "@jupyter-widgets/controls",
            "_model_module_version": "1.5.0",
            "_model_name": "HTMLModel",
            "_view_count": null,
            "_view_module": "@jupyter-widgets/controls",
            "_view_module_version": "1.5.0",
            "_view_name": "HTMLView",
            "description": "",
            "description_tooltip": null,
            "layout": "IPY_MODEL_d85e34cc353d4ac2a28ec86f902fe4d4",
            "placeholder": "​",
            "style": "IPY_MODEL_58e83534dcf1486ab6c1505078a52ae0",
            "value": " 233M/233M [00:03&lt;00:00, 80.9MB/s]"
          }
        },
        "ae6b10a2e549432d8dd1d8e713acd019": {
          "model_module": "@jupyter-widgets/base",
          "model_name": "LayoutModel",
          "model_module_version": "1.2.0",
          "state": {
            "_model_module": "@jupyter-widgets/base",
            "_model_module_version": "1.2.0",
            "_model_name": "LayoutModel",
            "_view_count": null,
            "_view_module": "@jupyter-widgets/base",
            "_view_module_version": "1.2.0",
            "_view_name": "LayoutView",
            "align_content": null,
            "align_items": null,
            "align_self": null,
            "border": null,
            "bottom": null,
            "display": null,
            "flex": null,
            "flex_flow": null,
            "grid_area": null,
            "grid_auto_columns": null,
            "grid_auto_flow": null,
            "grid_auto_rows": null,
            "grid_column": null,
            "grid_gap": null,
            "grid_row": null,
            "grid_template_areas": null,
            "grid_template_columns": null,
            "grid_template_rows": null,
            "height": null,
            "justify_content": null,
            "justify_items": null,
            "left": null,
            "margin": null,
            "max_height": null,
            "max_width": null,
            "min_height": null,
            "min_width": null,
            "object_fit": null,
            "object_position": null,
            "order": null,
            "overflow": null,
            "overflow_x": null,
            "overflow_y": null,
            "padding": null,
            "right": null,
            "top": null,
            "visibility": null,
            "width": null
          }
        },
        "ede5cf928bde445f91c6bbc8a8edd3a2": {
          "model_module": "@jupyter-widgets/base",
          "model_name": "LayoutModel",
          "model_module_version": "1.2.0",
          "state": {
            "_model_module": "@jupyter-widgets/base",
            "_model_module_version": "1.2.0",
            "_model_name": "LayoutModel",
            "_view_count": null,
            "_view_module": "@jupyter-widgets/base",
            "_view_module_version": "1.2.0",
            "_view_name": "LayoutView",
            "align_content": null,
            "align_items": null,
            "align_self": null,
            "border": null,
            "bottom": null,
            "display": null,
            "flex": null,
            "flex_flow": null,
            "grid_area": null,
            "grid_auto_columns": null,
            "grid_auto_flow": null,
            "grid_auto_rows": null,
            "grid_column": null,
            "grid_gap": null,
            "grid_row": null,
            "grid_template_areas": null,
            "grid_template_columns": null,
            "grid_template_rows": null,
            "height": null,
            "justify_content": null,
            "justify_items": null,
            "left": null,
            "margin": null,
            "max_height": null,
            "max_width": null,
            "min_height": null,
            "min_width": null,
            "object_fit": null,
            "object_position": null,
            "order": null,
            "overflow": null,
            "overflow_x": null,
            "overflow_y": null,
            "padding": null,
            "right": null,
            "top": null,
            "visibility": null,
            "width": null
          }
        },
        "5c955f5f56884c67810a1e51da39f844": {
          "model_module": "@jupyter-widgets/controls",
          "model_name": "DescriptionStyleModel",
          "model_module_version": "1.5.0",
          "state": {
            "_model_module": "@jupyter-widgets/controls",
            "_model_module_version": "1.5.0",
            "_model_name": "DescriptionStyleModel",
            "_view_count": null,
            "_view_module": "@jupyter-widgets/base",
            "_view_module_version": "1.2.0",
            "_view_name": "StyleView",
            "description_width": ""
          }
        },
        "6b2a181badf0416d900502fe6c38ef5e": {
          "model_module": "@jupyter-widgets/base",
          "model_name": "LayoutModel",
          "model_module_version": "1.2.0",
          "state": {
            "_model_module": "@jupyter-widgets/base",
            "_model_module_version": "1.2.0",
            "_model_name": "LayoutModel",
            "_view_count": null,
            "_view_module": "@jupyter-widgets/base",
            "_view_module_version": "1.2.0",
            "_view_name": "LayoutView",
            "align_content": null,
            "align_items": null,
            "align_self": null,
            "border": null,
            "bottom": null,
            "display": null,
            "flex": null,
            "flex_flow": null,
            "grid_area": null,
            "grid_auto_columns": null,
            "grid_auto_flow": null,
            "grid_auto_rows": null,
            "grid_column": null,
            "grid_gap": null,
            "grid_row": null,
            "grid_template_areas": null,
            "grid_template_columns": null,
            "grid_template_rows": null,
            "height": null,
            "justify_content": null,
            "justify_items": null,
            "left": null,
            "margin": null,
            "max_height": null,
            "max_width": null,
            "min_height": null,
            "min_width": null,
            "object_fit": null,
            "object_position": null,
            "order": null,
            "overflow": null,
            "overflow_x": null,
            "overflow_y": null,
            "padding": null,
            "right": null,
            "top": null,
            "visibility": null,
            "width": null
          }
        },
        "b461f499577f4e5fba2f265e03b27226": {
          "model_module": "@jupyter-widgets/controls",
          "model_name": "ProgressStyleModel",
          "model_module_version": "1.5.0",
          "state": {
            "_model_module": "@jupyter-widgets/controls",
            "_model_module_version": "1.5.0",
            "_model_name": "ProgressStyleModel",
            "_view_count": null,
            "_view_module": "@jupyter-widgets/base",
            "_view_module_version": "1.2.0",
            "_view_name": "StyleView",
            "bar_color": null,
            "description_width": ""
          }
        },
        "d85e34cc353d4ac2a28ec86f902fe4d4": {
          "model_module": "@jupyter-widgets/base",
          "model_name": "LayoutModel",
          "model_module_version": "1.2.0",
          "state": {
            "_model_module": "@jupyter-widgets/base",
            "_model_module_version": "1.2.0",
            "_model_name": "LayoutModel",
            "_view_count": null,
            "_view_module": "@jupyter-widgets/base",
            "_view_module_version": "1.2.0",
            "_view_name": "LayoutView",
            "align_content": null,
            "align_items": null,
            "align_self": null,
            "border": null,
            "bottom": null,
            "display": null,
            "flex": null,
            "flex_flow": null,
            "grid_area": null,
            "grid_auto_columns": null,
            "grid_auto_flow": null,
            "grid_auto_rows": null,
            "grid_column": null,
            "grid_gap": null,
            "grid_row": null,
            "grid_template_areas": null,
            "grid_template_columns": null,
            "grid_template_rows": null,
            "height": null,
            "justify_content": null,
            "justify_items": null,
            "left": null,
            "margin": null,
            "max_height": null,
            "max_width": null,
            "min_height": null,
            "min_width": null,
            "object_fit": null,
            "object_position": null,
            "order": null,
            "overflow": null,
            "overflow_x": null,
            "overflow_y": null,
            "padding": null,
            "right": null,
            "top": null,
            "visibility": null,
            "width": null
          }
        },
        "58e83534dcf1486ab6c1505078a52ae0": {
          "model_module": "@jupyter-widgets/controls",
          "model_name": "DescriptionStyleModel",
          "model_module_version": "1.5.0",
          "state": {
            "_model_module": "@jupyter-widgets/controls",
            "_model_module_version": "1.5.0",
            "_model_name": "DescriptionStyleModel",
            "_view_count": null,
            "_view_module": "@jupyter-widgets/base",
            "_view_module_version": "1.2.0",
            "_view_name": "StyleView",
            "description_width": ""
          }
        }
      }
    }
  },
  "nbformat": 4,
  "nbformat_minor": 0
}