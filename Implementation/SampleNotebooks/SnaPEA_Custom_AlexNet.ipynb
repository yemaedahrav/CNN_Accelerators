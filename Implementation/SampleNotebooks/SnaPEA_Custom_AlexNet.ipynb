{
 "cells": [
  {
   "cell_type": "code",
   "execution_count": 1,
   "id": "d4f0d97d",
   "metadata": {},
   "outputs": [],
   "source": [
    "import torch\n",
    "import torch.nn as nn\n",
    "import torch.nn.functional as F\n",
    "import torchvision\n",
    "from torchvision import datasets, models, transforms\n",
    "from torchvision import datasets, transforms\n",
    "import torchvision.transforms as T\n",
    "from torchvision.utils import make_grid\n",
    "from torchvision.utils import save_image\n",
    "from torch.utils.data import DataLoader, Dataset\n",
    "import torch.optim as optim\n",
    "from torch.optim import lr_scheduler\n",
    "\n",
    "import time\n",
    "import os\n",
    "import shutil\n",
    "import copy\n",
    "import sys\n",
    "\n",
    "import PIL\n",
    "from IPython.display import Image\n",
    "import matplotlib.pyplot as plt\n",
    "import pandas as pd\n",
    "from sklearn.cluster import KMeans, MiniBatchKMeans\n",
    "from statistics import mean\n",
    "from collections  import OrderedDict\n",
    "import numpy as np\n",
    "from skimage import io, transform\n",
    "import random\n",
    "import scipy\n",
    "import cv2\n",
    "from math import floor, ceil\n",
    "\n",
    "# !pip install torchinfo\n",
    "from torchinfo import summary\n",
    "\n",
    "%matplotlib inline"
   ]
  },
  {
   "cell_type": "code",
   "execution_count": 2,
   "id": "3d3b51f1",
   "metadata": {},
   "outputs": [
    {
     "data": {
      "text/plain": [
       "AlexNet(\n",
       "  (features): Sequential(\n",
       "    (0): Conv2d(3, 64, kernel_size=(11, 11), stride=(4, 4), padding=(2, 2))\n",
       "    (1): ReLU(inplace=True)\n",
       "    (2): MaxPool2d(kernel_size=3, stride=2, padding=0, dilation=1, ceil_mode=False)\n",
       "    (3): Conv2d(64, 192, kernel_size=(5, 5), stride=(1, 1), padding=(2, 2))\n",
       "    (4): ReLU(inplace=True)\n",
       "    (5): MaxPool2d(kernel_size=3, stride=2, padding=0, dilation=1, ceil_mode=False)\n",
       "    (6): Conv2d(192, 384, kernel_size=(3, 3), stride=(1, 1), padding=(1, 1))\n",
       "    (7): ReLU(inplace=True)\n",
       "    (8): Conv2d(384, 256, kernel_size=(3, 3), stride=(1, 1), padding=(1, 1))\n",
       "    (9): ReLU(inplace=True)\n",
       "    (10): Conv2d(256, 256, kernel_size=(3, 3), stride=(1, 1), padding=(1, 1))\n",
       "    (11): ReLU(inplace=True)\n",
       "    (12): MaxPool2d(kernel_size=3, stride=2, padding=0, dilation=1, ceil_mode=False)\n",
       "  )\n",
       "  (avgpool): AdaptiveAvgPool2d(output_size=(6, 6))\n",
       "  (classifier): Sequential(\n",
       "    (0): Dropout(p=0.5, inplace=False)\n",
       "    (1): Linear(in_features=9216, out_features=4096, bias=True)\n",
       "    (2): ReLU(inplace=True)\n",
       "    (3): Dropout(p=0.5, inplace=False)\n",
       "    (4): Linear(in_features=4096, out_features=4096, bias=True)\n",
       "    (5): ReLU(inplace=True)\n",
       "    (6): Linear(in_features=4096, out_features=1000, bias=True)\n",
       "  )\n",
       ")"
      ]
     },
     "execution_count": 2,
     "metadata": {},
     "output_type": "execute_result"
    }
   ],
   "source": [
    "alexnet = models.alexnet(pretrained=True)\n",
    "alexnet.eval()\n",
    "alexnet"
   ]
  },
  {
   "cell_type": "code",
   "execution_count": 3,
   "id": "8a87f2b5",
   "metadata": {},
   "outputs": [
    {
     "name": "stdout",
     "output_type": "stream",
     "text": [
      "features.0.weight \t torch.Size([64, 3, 11, 11])\n",
      "features.0.bias \t torch.Size([64])\n",
      "features.3.weight \t torch.Size([192, 64, 5, 5])\n",
      "features.3.bias \t torch.Size([192])\n",
      "features.6.weight \t torch.Size([384, 192, 3, 3])\n",
      "features.6.bias \t torch.Size([384])\n",
      "features.8.weight \t torch.Size([256, 384, 3, 3])\n",
      "features.8.bias \t torch.Size([256])\n",
      "features.10.weight \t torch.Size([256, 256, 3, 3])\n",
      "features.10.bias \t torch.Size([256])\n",
      "classifier.1.weight \t torch.Size([4096, 9216])\n",
      "classifier.1.bias \t torch.Size([4096])\n",
      "classifier.4.weight \t torch.Size([4096, 4096])\n",
      "classifier.4.bias \t torch.Size([4096])\n",
      "classifier.6.weight \t torch.Size([1000, 4096])\n",
      "classifier.6.bias \t torch.Size([1000])\n"
     ]
    }
   ],
   "source": [
    "for param_tensor in alexnet.state_dict():\n",
    "    #print(type(alexnet.state_dict()[param_tensor]))\n",
    "    print(param_tensor, \"\\t\", alexnet.state_dict()[param_tensor].size())"
   ]
  },
  {
   "cell_type": "code",
   "execution_count": 4,
   "id": "d466da90",
   "metadata": {},
   "outputs": [
    {
     "name": "stdout",
     "output_type": "stream",
     "text": [
      "<class 'collections.OrderedDict'>\n",
      "16\n"
     ]
    }
   ],
   "source": [
    "parameters = alexnet.state_dict()\n",
    "print(type(parameters))\n",
    "print(len(parameters))"
   ]
  },
  {
   "cell_type": "code",
   "execution_count": 18,
   "id": "32cd1889",
   "metadata": {},
   "outputs": [],
   "source": [
    "class Custom_AlexNet(nn.Module):\n",
    "    def __init__(self, parameters, num_classes: int = 1000, dropout: float = 0.5) -> None:\n",
    "        super().__init__()\n",
    "        \n",
    "        self.params = parameters\n",
    "        #self.conv1 = nn.SortConv2d(3, 64, kernel_size=11, stride=4, padding=2)\n",
    "        self.relu1 = nn.ReLU(inplace=True)\n",
    "        self.pool1 = nn.MaxPool2d(kernel_size=3, stride=2)\n",
    "        #self.conv2 = nn.SortConv2d(64, 192, kernel_size=5, padding=2)\n",
    "        self.relu2 = nn.ReLU(inplace=True)\n",
    "        self.pool2 = nn.MaxPool2d(kernel_size=3, stride=2)\n",
    "        #self.conv3 = nn.SortConv2d(192, 384, kernel_size=3, padding=1)\n",
    "        self.relu3 = nn.ReLU(inplace=True)\n",
    "        #self.conv4 = nn.SortConv2d(384, 256, kernel_size=3, padding=1)\n",
    "        self.relu4 = nn.ReLU(inplace=True)\n",
    "        #self.conv5 = nn.SortConv2d(256, 256, kernel_size=3, padding=1)\n",
    "        self.relu5 = nn.ReLU(inplace=True)\n",
    "        self.pool3 = nn.MaxPool2d(kernel_size=3, stride=2)\n",
    "        \n",
    "        self.avgpool = nn.AdaptiveAvgPool2d((6, 6))\n",
    "        self.classifier = nn.Sequential(\n",
    "            nn.Dropout(p=dropout),\n",
    "            nn.Linear(256 * 6 * 6, 4096),\n",
    "            nn.ReLU(inplace=True),\n",
    "            nn.Dropout(p=dropout),\n",
    "            nn.Linear(4096, 4096),\n",
    "            nn.ReLU(inplace=True),\n",
    "            nn.Linear(4096, num_classes),\n",
    "        )\n",
    "\n",
    "    def forward(self, x: torch.Tensor) -> torch.Tensor:\n",
    "        x = self.pool1(self.relu1(self.SortConv2D(x, 'features.0.weight', 'features.0.bias', 3, 64, 11, 4, 2)))\n",
    "        #x = self.pool1(self.relu1(self.SortConv2D(x, 'features.0.weight', 'features.0.bias', 3, 64, kernel_size=11, stride=4, padding=2)))\n",
    "        x = self.pool2(self.relu2(self.SortConv2D(x, 'features.3.weight', 'features.3.bias', 64, 192, kernel_size=5, stride=1, padding=2)))\n",
    "        x = self.relu3(self.SortConv2D(x, 'features.6.weight', 'features.6.bias', 192, 384,  kernel_size=3, stride=1, padding=1))\n",
    "        x = self.relu4(self.SortConv2D(x, 'features.8.weight', 'features.8.bias', 384, 256, kernel_size=3, stride=1, padding=1))\n",
    "        x = self.pool3(self.relu5(self.SortConv2D(x, 'features.10.weight', 'features.10.bias', 256, 256, kernel_size=3, stride=1, padding=1)))\n",
    "    \n",
    "        x = self.avgpool(x)\n",
    "        x = torch.flatten(x, 1)\n",
    "        x = self.classifier(x)\n",
    "        return x\n",
    "    \n",
    "    def compute_weights_list(self, kernel, in_channels, out_channels, h, w):    \n",
    "        weight_list = []\n",
    "        for k in range(in_channels):\n",
    "            for i in range(h):\n",
    "                for j in range(w):\n",
    "                    wt = kernel[k][i][j]\n",
    "                    if wt < 0:\n",
    "                        weight_list.append(tuple((wt, k, i, j)))\n",
    "        sorted_weight_list = sorted(weight_list, key = lambda x: x[0])\n",
    "        return sorted_weight_list\n",
    "   \n",
    "    def compute_conv(self, x, in_channels, kernel_size, weight_list, weights, r, c):\n",
    "        x_out_cell = 0\n",
    "#         print(\"in: \",in_channels)\n",
    "#         print(x[2][223][223])\n",
    "        for k in range(in_channels):\n",
    "            for i in range(kernel_size):\n",
    "                for j in range(kernel_size):          \n",
    "                    if weights[k][i][j] > 0:\n",
    "#                         print(\"k,i,j: \",k,\" \", i,\" \",j)\n",
    "                        x_out_cell += (x[k][r+i][c+j]*weights[k][i][j])\n",
    "        for tup in weight_list:\n",
    "            x_out_cell += tup[0]*x[tup[1]][r+tup[2]][c+tup[3]]\n",
    "            if x_out_cell < 0:\n",
    "                break\n",
    "        return x_out_cell\n",
    "    \n",
    "    def compute_filter_conv(self, x, h, w, in_channels, kernel_size, weight_list, weights, bias, kernel_id, w_out, h_out, stride, padding):\n",
    "        x_out_channel = torch.zeros(w_out,h_out)\n",
    "        for r in range(0,h+2*padding-kernel_size,stride):\n",
    "            for c in range(0,w+2*padding-kernel_size,stride):\n",
    "                r_out = floor(r/stride)\n",
    "                c_out = floor(c/stride)\n",
    "                #print(r_out, c_out)\n",
    "                x_out_channel[r_out][c_out] = self.compute_conv(x, in_channels, kernel_size, weight_list, weights, r, c)\n",
    "                x_out_channel[r_out][c_out] += bias\n",
    "        return x_out_channel\n",
    "\n",
    "    def SortConv2D(self, x, wt_str, b_str, in_channels, out_channels, kernel_size, stride, padding) -> torch.Tensor:\n",
    "        x = x[0]\n",
    "        print(x.shape)\n",
    "        h = x.shape[1]\n",
    "        w = x.shape[2]\n",
    "        w_out = floor((w+2*padding-kernel_size)/stride+1)\n",
    "        h_out = floor((h+2*padding-kernel_size)/stride+1)\n",
    "        x_out = torch.zeros(out_channels, h_out, w_out)\n",
    "        pad_transform = transforms.Pad(padding)\n",
    "        x = pad_transform(x)\n",
    "        for kernel_id in range(out_channels):\n",
    "            weights = parameters[wt_str][kernel_id]\n",
    "            bias = parameters[b_str][kernel_id]\n",
    "            weight_list = self.compute_weights_list(weights, in_channels, out_channels, kernel_size, kernel_size)\n",
    "            x_out[kernel_id] = self.compute_filter_conv(x, h, w, in_channels, kernel_size, weight_list, weights, bias, kernel_id, w_out, h_out, stride, padding)\n",
    "        return x_out    "
   ]
  },
  {
   "cell_type": "code",
   "execution_count": 14,
   "id": "a44834ea",
   "metadata": {},
   "outputs": [],
   "source": [
    "snapea_alexnet = Custom_AlexNet(parameters)"
   ]
  },
  {
   "cell_type": "code",
   "execution_count": 8,
   "id": "0d075ef2",
   "metadata": {},
   "outputs": [],
   "source": [
    "class ImageDataset(Dataset):\n",
    "    def __init__(self, df, img_folder, transform):\n",
    "        self.df = df\n",
    "        self.transform = transform\n",
    "        self.img_folder = img_folder\n",
    "        self.image_names = self.df[:]['name']\n",
    "        self.labels = self.df[:]['label']\n",
    "\n",
    "    def __len__(self):\n",
    "        return len(self.image_names)\n",
    "\n",
    "    def __getitem__(self,index):\n",
    "        number_str = str(index+1)\n",
    "        zero_filled_number = str(number_str.zfill(5))\n",
    "        file_base = '\\ILSVRC2010_val_000'\n",
    "        image=plt.imread(self.img_folder + file_base + zero_filled_number +'.JPEG')\n",
    "        #print(type(image))\n",
    "        image=self.transform(image)\n",
    "        targets=self.labels[index]\n",
    "        sample = {'image': image,'labels':targets}\n",
    "        return sample"
   ]
  },
  {
   "cell_type": "code",
   "execution_count": 9,
   "id": "cb96dabb",
   "metadata": {},
   "outputs": [],
   "source": [
    "test_transform = transforms.Compose([transforms.ToTensor(),\n",
    "                                     transforms.ToPILImage(),\n",
    "                                     transforms.Resize(256),\n",
    "                                     transforms.RandomResizedCrop(224),\n",
    "                                     transforms.ToTensor(),\n",
    "                                     transforms.Normalize(mean=[0.485, 0.456, 0.406], std=[0.229, 0.224, 0.225]),\n",
    "                                    ])"
   ]
  },
  {
   "cell_type": "code",
   "execution_count": 11,
   "id": "8d7cbb3f",
   "metadata": {},
   "outputs": [
    {
     "name": "stdout",
     "output_type": "stream",
     "text": [
      "<torch.utils.data.dataloader.DataLoader object at 0x000001A772E317F0>\n"
     ]
    }
   ],
   "source": [
    "test_set = r\"C:\\Users\\ameyv\\BTP\\labels_2010_val_reduced.csv\"\n",
    "img_folder = r\"C:\\Users\\ameyv\\BTP\\2010_val_reduced\"\n",
    "df = pd.read_csv(test_set)\n",
    "\n",
    "test_dataset = ImageDataset(df, img_folder, test_transform)\n",
    "test_dataloader = DataLoader(test_dataset, shuffle=False)\n",
    "print(test_dataloader)"
   ]
  }
 ],
 "metadata": {
  "kernelspec": {
   "display_name": "Python 3 (ipykernel)",
   "language": "python",
   "name": "python3"
  },
  "language_info": {
   "codemirror_mode": {
    "name": "ipython",
    "version": 3
   },
   "file_extension": ".py",
   "mimetype": "text/x-python",
   "name": "python",
   "nbconvert_exporter": "python",
   "pygments_lexer": "ipython3",
   "version": "3.8.12"
  }
 },
 "nbformat": 4,
 "nbformat_minor": 5
}
