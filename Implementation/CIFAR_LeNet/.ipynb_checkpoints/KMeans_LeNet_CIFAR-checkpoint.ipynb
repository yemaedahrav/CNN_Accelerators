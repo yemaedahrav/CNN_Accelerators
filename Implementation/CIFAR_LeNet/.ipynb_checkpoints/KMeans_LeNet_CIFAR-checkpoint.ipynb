{
 "cells": [
  {
   "cell_type": "code",
   "execution_count": 1,
   "id": "307c4ffc",
   "metadata": {},
   "outputs": [],
   "source": [
    "import torch\n",
    "import torch.nn as nn\n",
    "import torch.nn.functional as F\n",
    "import torchvision\n",
    "from torchvision import datasets, models, transforms\n",
    "import torchvision.transforms as T\n",
    "from torchvision.utils import make_grid\n",
    "from torchvision.utils import save_image\n",
    "from torch.utils.data import DataLoader, Dataset\n",
    "import torch.optim as optim\n",
    "from torch.optim import lr_scheduler\n",
    "\n",
    "import time\n",
    "import os\n",
    "import shutil\n",
    "import copy\n",
    "import sys\n",
    "\n",
    "import PIL\n",
    "from IPython.display import Image\n",
    "import matplotlib.pyplot as plt\n",
    "import pandas as pd\n",
    "from sklearn.cluster import KMeans, MiniBatchKMeans\n",
    "from statistics import mean\n",
    "from collections  import OrderedDict\n",
    "import numpy as np\n",
    "from skimage import io, transform\n",
    "import random\n",
    "import scipy\n",
    "import cv2\n",
    "from math import floor, ceil\n",
    "\n",
    "# !pip install torchinfo\n",
    "from torchinfo import summary\n",
    "\n",
    "%matplotlib inline"
   ]
  },
  {
   "cell_type": "code",
   "execution_count": 2,
   "id": "9e6715bc",
   "metadata": {},
   "outputs": [],
   "source": [
    "IMG_SIZE = 32\n",
    "N_CLASSES = 10\n",
    "PATH = r\"C:\\Users\\ameyv\\CNN_Accelerators\\LeNet_CIFAR.pth\""
   ]
  },
  {
   "cell_type": "code",
   "execution_count": null,
   "id": "a1ff88d1",
   "metadata": {},
   "outputs": [],
   "source": [
    "mult_counts = torch.zeros(3)"
   ]
  },
  {
   "cell_type": "code",
   "execution_count": null,
   "id": "5e48694d",
   "metadata": {},
   "outputs": [],
   "source": [
    "class LeNet5(nn.Module):\n",
    "\n",
    "    def __init__(self, n_classes):\n",
    "        super(LeNet5, self).__init__()\n",
    "        \n",
    "        self.feature_extractor = nn.Sequential(            \n",
    "            nn.SortConv2D(in_channels=1, out_channels=6, kernel_size=5, stride=1),\n",
    "            nn.ReLU(),\n",
    "            nn.AvgPool2d(kernel_size=2),\n",
    "            nn.SortConv2D(in_channels=6, out_channels=16, kernel_size=5, stride=1),\n",
    "            nn.ReLU(),\n",
    "            nn.AvgPool2d(kernel_size=2),\n",
    "            nn.SortConv2D(in_channels=16, out_channels=84, kernel_size=5, stride=1),\n",
    "            nn.ReLU()\n",
    "        )\n",
    "\n",
    "        self.classifier = nn.Sequential(\n",
    "            nn.Linear(in_features=84, out_features=64),\n",
    "            nn.Tanh(),\n",
    "            nn.Linear(in_features=64, out_features=n_classes),\n",
    "        )\n",
    "\n",
    "    def forward(self, x):\n",
    "        x = self.feature_extractor(x)\n",
    "        x = torch.flatten(x, 1)\n",
    "        logits = self.classifier(x)\n",
    "        probs = F.softmax(logits, dim=1)\n",
    "        return logits, probs\n",
    "    \n",
    "    def compute_conv(x, in_channels, kernel_size, centroids, labels, weights, r, c):\n",
    "        x_out_cell = 0\n",
    "        mult_count = 0\n",
    "        act_clusters = torch.zeros(1,num_clusters)\n",
    "        for i in range(width*depth*height):\n",
    "            act_clusters[0][labels[i]] += img[floor(i/(height*width))][r+floor((i%(width*height))/width)][c+floor(i%width)]\n",
    "        for it in range(width):\n",
    "            img_out_cell += act_clusters[0][it]*centroids[it]\n",
    "            conv_mult_count += 1\n",
    "        return x_out_cell, mult_count\n",
    "\n",
    "    def compute_filter_conv(x, h, w, in_channels, kernel_size, centroids, labels, weights, bias, kernel_id, w_out, h_out, stride, padding):\n",
    "        x_out_channel = torch.zeros(w_out,h_out)\n",
    "        for r in range(0,h+2*padding-kernel_size,stride):\n",
    "            for c in range(0,w+2*padding-kernel_size,stride):\n",
    "                r_out = floor(r/stride)\n",
    "                c_out = floor(c/stride)\n",
    "                #print(r_out, c_out)\n",
    "                x_out_channel[r_out][c_out], mult = self.compute_conv(x, in_channels, kernel_size, centroids, labels, weights, r, c)\n",
    "                x_out_channel[r_out][c_out] += bias\n",
    "        return x_out_channel, mult\n",
    "\n",
    "    def SortConv2D(x, wt_str, b_str, in_channels, out_channels, kernel_size, stride, padding) -> torch.Tensor:\n",
    "        #   x = x[0]\n",
    "        #   print(x.shape)\n",
    "        layer_mult_count = 0\n",
    "        h = x.shape[1]\n",
    "        w = x.shape[2]\n",
    "        w_out = floor((w+2*padding-kernel_size)/stride+1)\n",
    "        h_out = floor((h+2*padding-kernel_size)/stride+1)\n",
    "        x_out = torch.zeros(out_channels, h_out, w_out)\n",
    "        pad_transform = transforms.Pad(padding)\n",
    "        x = pad_transform(x)\n",
    "        for kernel_id in range(out_channels):\n",
    "            weights = parameters[wt_str][kernel_id]\n",
    "            bias = parameters[b_str][kernel_id]\n",
    "            weight_list = compute_kmeans(weights, in_channels, out_channels, kernel_size, kernel_size)\n",
    "            centroids, labels = compute_kmeans(parameters[wt_str], kernel_size)\n",
    "            x_out[kernel_id], mult = self.compute_filter_conv(x, h, w, in_channels, kernel_size, centroids, labels, weights, bias, kernel_id, w_out, h_out, stride, padding)\n",
    "            layer_mult_count += mult\n",
    "        if wt_str == 'feature_extractor.0.weight':\n",
    "            mult_counts[0] += layer_mult_count\n",
    "        elif wt_str == 'feature_extractor.3.weight':\n",
    "            mult_counts[1] += layer_mult_count\n",
    "        else:    \n",
    "            mult_counts[2] += layer_mult_count\n",
    "        return x_out    "
   ]
  },
  {
   "cell_type": "code",
   "execution_count": 4,
   "id": "5f00b1cd",
   "metadata": {},
   "outputs": [
    {
     "data": {
      "text/plain": [
       "LeNet5(\n",
       "  (feature_extractor): Sequential(\n",
       "    (0): Conv2d(1, 6, kernel_size=(5, 5), stride=(1, 1))\n",
       "    (1): ReLU()\n",
       "    (2): AvgPool2d(kernel_size=2, stride=2, padding=0)\n",
       "    (3): Conv2d(6, 16, kernel_size=(5, 5), stride=(1, 1))\n",
       "    (4): ReLU()\n",
       "    (5): AvgPool2d(kernel_size=2, stride=2, padding=0)\n",
       "    (6): Conv2d(16, 84, kernel_size=(5, 5), stride=(1, 1))\n",
       "    (7): ReLU()\n",
       "  )\n",
       "  (classifier): Sequential(\n",
       "    (0): Linear(in_features=84, out_features=64, bias=True)\n",
       "    (1): Tanh()\n",
       "    (2): Linear(in_features=64, out_features=10, bias=True)\n",
       "  )\n",
       ")"
      ]
     },
     "execution_count": 4,
     "metadata": {},
     "output_type": "execute_result"
    }
   ],
   "source": [
    "lenet = LeNet5(N_CLASSES)\n",
    "lenet.load_state_dict(torch.load(PATH))\n",
    "lenet.eval()"
   ]
  },
  {
   "cell_type": "code",
   "execution_count": 5,
   "id": "bc15d8d7",
   "metadata": {},
   "outputs": [
    {
     "name": "stdout",
     "output_type": "stream",
     "text": [
      "feature_extractor.0.weight \t torch.Size([6, 1, 5, 5])\n",
      "feature_extractor.0.bias \t torch.Size([6])\n",
      "feature_extractor.3.weight \t torch.Size([16, 6, 5, 5])\n",
      "feature_extractor.3.bias \t torch.Size([16])\n",
      "feature_extractor.6.weight \t torch.Size([84, 16, 5, 5])\n",
      "feature_extractor.6.bias \t torch.Size([84])\n",
      "classifier.0.weight \t torch.Size([64, 84])\n",
      "classifier.0.bias \t torch.Size([64])\n",
      "classifier.2.weight \t torch.Size([10, 64])\n",
      "classifier.2.bias \t torch.Size([10])\n"
     ]
    }
   ],
   "source": [
    "parameters = lenet.state_dict()\n",
    "for param_tensor in parameters:\n",
    "    #print(type(alexnet.state_dict()[param_tensor]))\n",
    "    print(param_tensor, \"\\t\", parameters[param_tensor].size())"
   ]
  },
  {
   "cell_type": "code",
   "execution_count": 6,
   "id": "1188e76e",
   "metadata": {},
   "outputs": [
    {
     "name": "stdout",
     "output_type": "stream",
     "text": [
      "tensor([[[ 0.0907,  0.1396, -0.0428,  0.0474, -0.1452],\n",
      "         [ 0.1162,  0.0521,  0.1174,  0.0070, -0.2547],\n",
      "         [ 0.3676,  0.2714,  0.3123,  0.1142,  0.0710],\n",
      "         [ 0.1612,  0.3490,  0.2863,  0.1326,  0.0660],\n",
      "         [-0.2164, -0.1052, -0.1675, -0.0691, -0.4119]]])\n"
     ]
    }
   ],
   "source": [
    "print(parameters['feature_extractor.0.weight'][0])"
   ]
  },
  {
   "cell_type": "code",
   "execution_count": 11,
   "id": "ad40ba1a",
   "metadata": {},
   "outputs": [],
   "source": [
    "def compute_kmeans(kernel, num_cluster):    \n",
    "    centroids = []\n",
    "    labels = []\n",
    "    num_cluster = kernel_size\n",
    "    flattened_weights = kernel.reshape(-1)\n",
    "    flattened_weights = flattened_weights.reshape(height*width*depth,1)\n",
    "    kmeans = MiniBatchKMeans(n_clusters=num_cluster, batch_size=height*width, compute_labels=True)\n",
    "    kmeans.fit(flattened_weights)\n",
    "    centroids = kmeans.cluster_centers_\n",
    "    labels = kmeans.labels_\n",
    "#     print(labels)\n",
    "#     print(len(labels))\n",
    "#     print(type(labels))\n",
    "#     print(labels.shape)\n",
    "    return centroids, labels"
   ]
  },
  {
   "cell_type": "code",
   "execution_count": null,
   "id": "be86e214",
   "metadata": {},
   "outputs": [],
   "source": [
    "centroids1, labels1 = compute_kmeans(parameters['feature_extractor.0.weight'], 5)\n",
    "centroids2, labels2 = compute_kmeans(parameters['feature_extractor.3.weight'], 5)\n",
    "centroids3, labels3 = compute_kmeans(parameters['feature_extractor.6.weight'], 5)"
   ]
  },
  {
   "cell_type": "code",
   "execution_count": 15,
   "id": "c8103611",
   "metadata": {},
   "outputs": [
    {
     "data": {
      "text/plain": [
       "'\\ndef compute_conv(x, in_channels, kernel_size, weight_list, weights, r, c):\\n    x_out_cell = 0\\n    for k in range(in_channels):\\n        for i in range(kernel_size):\\n            for j in range(kernel_size):          \\n                if weights[k][i][j] > 0:\\n                    x_out_cell += (x[k][r+i][c+j]*weights[k][i][j])\\n    for tup in weight_list:\\n        x_out_cell += tup[0]*x[tup[1]][r+tup[2]][c+tup[3]]\\n        if x_out_cell < 0:\\n            break\\n    return x_out_cell\\n\\ndef compute_filter_conv(x, h, w, in_channels, kernel_size, weight_list, weights, bias, kernel_id, w_out, h_out, stride, padding):\\n    x_out_channel = torch.zeros(w_out,h_out)\\n    for r in range(0,h+2*padding-kernel_size,stride):\\n        for c in range(0,w+2*padding-kernel_size,stride):\\n            r_out = floor(r/stride)\\n            c_out = floor(c/stride)\\n            #print(r_out, c_out)\\n            x_out_channel[r_out][c_out] = self.compute_conv(x, in_channels, kernel_size, weight_list, weights, r, c)\\n            x_out_channel[r_out][c_out] += bias\\n    return x_out_channel\\n\\ndef SortConv2D(x, wt_str, b_str, in_channels, out_channels, kernel_size, stride, padding) -> torch.Tensor:\\n    #   x = x[0]\\n    #   print(x.shape)\\n    h = x.shape[1]\\n    w = x.shape[2]\\n    w_out = floor((w+2*padding-kernel_size)/stride+1)\\n    h_out = floor((h+2*padding-kernel_size)/stride+1)\\n    x_out = torch.zeros(out_channels, h_out, w_out)\\n    pad_transform = transforms.Pad(padding)\\n    x = pad_transform(x)\\n    for kernel_id in range(out_channels):\\n        weights = parameters[wt_str][kernel_id]\\n        bias = parameters[b_str][kernel_id]\\n        weight_list = self.compute_weights_list(weights, in_channels, out_channels, kernel_size, kernel_size)\\n        x_out[kernel_id] = self.compute_filter_conv(x, h, w, in_channels, kernel_size, weight_list, weights, bias, kernel_id, w_out, h_out, stride, padding)\\n    return x_out    \\n'"
      ]
     },
     "execution_count": 15,
     "metadata": {},
     "output_type": "execute_result"
    }
   ],
   "source": [
    "\"\"\"\n",
    "def compute_conv(x, in_channels, kernel_size, weight_list, weights, r, c):\n",
    "    x_out_cell = 0\n",
    "    for k in range(in_channels):\n",
    "        for i in range(kernel_size):\n",
    "            for j in range(kernel_size):          \n",
    "                if weights[k][i][j] > 0:\n",
    "                    x_out_cell += (x[k][r+i][c+j]*weights[k][i][j])\n",
    "    for tup in weight_list:\n",
    "        x_out_cell += tup[0]*x[tup[1]][r+tup[2]][c+tup[3]]\n",
    "        if x_out_cell < 0:\n",
    "            break\n",
    "    return x_out_cell\n",
    "\n",
    "def compute_filter_conv(x, h, w, in_channels, kernel_size, weight_list, weights, bias, kernel_id, w_out, h_out, stride, padding):\n",
    "    x_out_channel = torch.zeros(w_out,h_out)\n",
    "    for r in range(0,h+2*padding-kernel_size,stride):\n",
    "        for c in range(0,w+2*padding-kernel_size,stride):\n",
    "            r_out = floor(r/stride)\n",
    "            c_out = floor(c/stride)\n",
    "            #print(r_out, c_out)\n",
    "            x_out_channel[r_out][c_out] = self.compute_conv(x, in_channels, kernel_size, weight_list, weights, r, c)\n",
    "            x_out_channel[r_out][c_out] += bias\n",
    "    return x_out_channel\n",
    "\n",
    "def SortConv2D(x, wt_str, b_str, in_channels, out_channels, kernel_size, stride, padding) -> torch.Tensor:\n",
    "    #   x = x[0]\n",
    "    #   print(x.shape)\n",
    "    h = x.shape[1]\n",
    "    w = x.shape[2]\n",
    "    w_out = floor((w+2*padding-kernel_size)/stride+1)\n",
    "    h_out = floor((h+2*padding-kernel_size)/stride+1)\n",
    "    x_out = torch.zeros(out_channels, h_out, w_out)\n",
    "    pad_transform = transforms.Pad(padding)\n",
    "    x = pad_transform(x)\n",
    "    for kernel_id in range(out_channels):\n",
    "        weights = parameters[wt_str][kernel_id]\n",
    "        bias = parameters[b_str][kernel_id]\n",
    "        weight_list = self.compute_weights_list(weights, in_channels, out_channels, kernel_size, kernel_size)\n",
    "        x_out[kernel_id] = self.compute_filter_conv(x, h, w, in_channels, kernel_size, weight_list, weights, bias, kernel_id, w_out, h_out, stride, padding)\n",
    "    return x_out    \n",
    "\"\"\""
   ]
  },
  {
   "cell_type": "code",
   "execution_count": null,
   "id": "5b900f18",
   "metadata": {},
   "outputs": [
    {
     "name": "stdout",
     "output_type": "stream",
     "text": [
      "Downloading https://www.cs.toronto.edu/~kriz/cifar-10-python.tar.gz to ./data\\cifar-10-python.tar.gz\n"
     ]
    },
    {
     "data": {
      "application/vnd.jupyter.widget-view+json": {
       "model_id": "3a9e5ed7012f4ae3a5dce26b31bc6a0d",
       "version_major": 2,
       "version_minor": 0
      },
      "text/plain": [
       "  0%|          | 0/170498071 [00:00<?, ?it/s]"
      ]
     },
     "metadata": {},
     "output_type": "display_data"
    }
   ],
   "source": [
    "transform = transforms.Compose([transforms.Resize((32, 32)),\n",
    "                                transforms.ToTensor(), \n",
    "                                transforms.Normalize((0.4914, 0.4822, 0.4465), (0.2023, 0.1994, 0.2010)),\n",
    "                                transforms.Grayscale(num_output_channels=1), \n",
    "                               ])\n",
    "\n",
    "train_data = torchvision.datasets.CIFAR10(root='./data', train=True, download=True, transform=transform)\n",
    "trainloader = torch.utils.data.DataLoader(train_data, batch_size=4, shuffle=True, num_workers=2)\n",
    "\n",
    "test_data = torchvision.datasets.CIFAR10(root='./data', train=False, download=True, transform=transform)\n",
    "testloader = torch.utils.data.DataLoader(test_data, batch_size=4, shuffle=False, num_workers=2)\n",
    "\n",
    "classes = ('Airplane', 'Car', 'Bird', 'Cat', 'Deer', 'Dog', 'Frog', 'Horse', 'Ship', 'Truck')"
   ]
  },
  {
   "cell_type": "code",
   "execution_count": null,
   "id": "2eb3c0cb",
   "metadata": {},
   "outputs": [],
   "source": [
    "correct_pred = 0 \n",
    "n = 0\n",
    "num_images = 10\n",
    "\n",
    "with torch.no_grad():\n",
    "    model.eval()\n",
    "    for i in range(num_images):\n",
    "        X = testloader[i][0]\n",
    "        y = testloader[i][1]\n",
    "\n",
    "        X = X.to(device)\n",
    "        y_true = y_true.to(device)\n",
    "\n",
    "        _, y_prob = model(X)\n",
    "        _, predicted_labels = torch.max(y_prob, 1)\n",
    "\n",
    "        n += y_true.size(0)\n",
    "        correct_pred += (predicted_labels == y_true).sum()\n",
    "\n",
    "test_accuracy = correct_pred.float() / n"
   ]
  },
  {
   "cell_type": "code",
   "execution_count": null,
   "id": "4c94904a",
   "metadata": {},
   "outputs": [],
   "source": [
    "mult_counts = mult_counts/num_images"
   ]
  },
  {
   "cell_type": "code",
   "execution_count": 7,
   "id": "6062a620",
   "metadata": {},
   "outputs": [
    {
     "name": "stdout",
     "output_type": "stream",
     "text": [
      "Test accuracy for  10 images is:  40\n",
      "Averaged Multipication Counts:  [20480, 8840, 440]\n"
     ]
    }
   ],
   "source": [
    "print(\"Test accuracy for \", num_images, \"images is: \", test_accuracy)\n",
    "print(\"Averaged Multipication Counts: \", mult_counts)"
   ]
  }
 ],
 "metadata": {
  "kernelspec": {
   "display_name": "Python 3 (ipykernel)",
   "language": "python",
   "name": "python3"
  },
  "language_info": {
   "codemirror_mode": {
    "name": "ipython",
    "version": 3
   },
   "file_extension": ".py",
   "mimetype": "text/x-python",
   "name": "python",
   "nbconvert_exporter": "python",
   "pygments_lexer": "ipython3",
   "version": "3.8.12"
  }
 },
 "nbformat": 4,
 "nbformat_minor": 5
}
